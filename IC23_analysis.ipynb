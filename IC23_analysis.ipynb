{
  "nbformat": 4,
  "nbformat_minor": 0,
  "metadata": {
    "colab": {
      "provenance": []
    },
    "kernelspec": {
      "name": "python3",
      "display_name": "Python 3"
    },
    "language_info": {
      "name": "python"
    }
  },
  "cells": [
    {
      "cell_type": "markdown",
      "source": [
        "IMPORTS"
      ],
      "metadata": {
        "id": "tbzU6k4o4-wF"
      }
    },
    {
      "cell_type": "code",
      "execution_count": null,
      "metadata": {
        "id": "7rmYfmfWwlj_"
      },
      "outputs": [],
      "source": [
        "from google.colab import drive\n",
        "from geopy.geocoders import Nominatim"
      ]
    },
    {
      "cell_type": "markdown",
      "source": [
        "LOADING DATA"
      ],
      "metadata": {
        "id": "VpulzUzQ4eMY"
      }
    },
    {
      "cell_type": "code",
      "source": [
        "drive.mount('/content/gdrive')\n",
        "%cd gdrive/My Drive/Colab Notebooks/IC23/"
      ],
      "metadata": {
        "id": "ifYU5iOM5WIF"
      },
      "execution_count": null,
      "outputs": []
    },
    {
      "cell_type": "code",
      "source": [
        "# ! git clone https://github.com/osullik/ic23050.git\n",
        "# ! git pull"
      ],
      "metadata": {
        "colab": {
          "base_uri": "https://localhost:8080/"
        },
        "id": "qy7UI2IM4hy5",
        "outputId": "59c020ee-6de9-453a-8167-e7a68167dd7b"
      },
      "execution_count": null,
      "outputs": [
        {
          "output_type": "stream",
          "name": "stdout",
          "text": [
            "Cloning into 'ic23050'...\n",
            "fatal: could not read Username for 'https://github.com': No such device or address\n",
            "fatal: not a git repository (or any parent up to mount point /content)\n",
            "Stopping at filesystem boundary (GIT_DISCOVERY_ACROSS_FILESYSTEM not set).\n"
          ]
        }
      ]
    },
    {
      "cell_type": "markdown",
      "source": [
        "REVERSE GEOCODING"
      ],
      "metadata": {
        "id": "QH3a3NOE4X7N"
      }
    },
    {
      "cell_type": "code",
      "source": [
        "locator = Nominatim(user_agent=\"myGeocoder\")"
      ],
      "metadata": {
        "id": "7279FDzz1TUJ"
      },
      "execution_count": null,
      "outputs": []
    },
    {
      "cell_type": "code",
      "source": [
        "# Input: lat and long coordinates\n",
        "# Output: dictionary containing zipcode as 'postcode' and other address fields\n",
        "def reverse_geo(x, y):\n",
        "  return locator.reverse((x,y)).raw"
      ],
      "metadata": {
        "id": "1R3lvlLl0sZ2"
      },
      "execution_count": null,
      "outputs": []
    },
    {
      "cell_type": "code",
      "source": [
        "x, y = 40.7128, -74.0060\n",
        "reverse_geo(x, y)"
      ],
      "metadata": {
        "colab": {
          "base_uri": "https://localhost:8080/"
        },
        "id": "QTRokxI1wt3o",
        "outputId": "e68da8ea-ee0b-4330-d155-6021b9149fdf"
      },
      "execution_count": null,
      "outputs": [
        {
          "output_type": "execute_result",
          "data": {
            "text/plain": [
              "{'place_id': 225914961,\n",
              " 'licence': 'Data © OpenStreetMap contributors, ODbL 1.0. https://osm.org/copyright',\n",
              " 'osm_type': 'way',\n",
              " 'osm_id': 575213527,\n",
              " 'lat': '40.71273945',\n",
              " 'lon': '-74.00593904130275',\n",
              " 'display_name': 'New York City Hall, 260, Broadway, Lower Manhattan, Manhattan Community Board 1, Manhattan, New York County, City of New York, New York, 10000, United States',\n",
              " 'address': {'amenity': 'New York City Hall',\n",
              "  'house_number': '260',\n",
              "  'road': 'Broadway',\n",
              "  'quarter': 'Lower Manhattan',\n",
              "  'neighbourhood': 'Manhattan Community Board 1',\n",
              "  'suburb': 'Manhattan',\n",
              "  'county': 'New York County',\n",
              "  'city': 'City of New York',\n",
              "  'state': 'New York',\n",
              "  'ISO3166-2-lvl4': 'US-NY',\n",
              "  'postcode': '10000',\n",
              "  'country': 'United States',\n",
              "  'country_code': 'us'},\n",
              " 'boundingbox': ['40.712445', '40.7130254', '-74.0064455', '-74.0055687']}"
            ]
          },
          "metadata": {},
          "execution_count": 19
        }
      ]
    },
    {
      "cell_type": "code",
      "source": [],
      "metadata": {
        "id": "jM-ZKEHf01qu"
      },
      "execution_count": null,
      "outputs": []
    }
  ]
}