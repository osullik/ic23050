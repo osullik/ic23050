{
  "nbformat": 4,
  "nbformat_minor": 0,
  "metadata": {
    "colab": {
      "provenance": []
    },
    "kernelspec": {
      "name": "python3",
      "display_name": "Python 3"
    },
    "language_info": {
      "name": "python"
    }
  },
  "cells": [
    {
      "cell_type": "markdown",
      "source": [
        "IMPORTS"
      ],
      "metadata": {
        "id": "tbzU6k4o4-wF"
      }
    },
    {
      "cell_type": "code",
      "execution_count": 1,
      "metadata": {
        "id": "7rmYfmfWwlj_"
      },
      "outputs": [],
      "source": [
        "from google.colab import drive\n",
        "from geopy.geocoders import Nominatim\n",
        "import pandas as pd\n",
        "import numpy as np"
      ]
    },
    {
      "cell_type": "markdown",
      "source": [
        "LOADING DATA"
      ],
      "metadata": {
        "id": "VpulzUzQ4eMY"
      }
    },
    {
      "cell_type": "code",
      "source": [
        "drive.mount('/content/gdrive')\n",
        "%cd gdrive/My Drive/Colab Notebooks/IC23/"
      ],
      "metadata": {
        "id": "ifYU5iOM5WIF",
        "colab": {
          "base_uri": "https://localhost:8080/"
        },
        "outputId": "46fdea57-2ec8-45d4-ff8d-9d06d5ac1cde"
      },
      "execution_count": 2,
      "outputs": [
        {
          "output_type": "stream",
          "name": "stdout",
          "text": [
            "Drive already mounted at /content/gdrive; to attempt to forcibly remount, call drive.mount(\"/content/gdrive\", force_remount=True).\n",
            "/content/gdrive/My Drive/Colab Notebooks/IC23\n"
          ]
        }
      ]
    },
    {
      "cell_type": "code",
      "source": [
        "#! git clone https://github.com/osullik/ic23050.git\n",
        "#! git pull"
      ],
      "metadata": {
        "id": "qy7UI2IM4hy5"
      },
      "execution_count": 52,
      "outputs": []
    },
    {
      "cell_type": "code",
      "source": [
        "orig_data = pd.read_csv(\"https://raw.githubusercontent.com/osullik/ic23050/main/L4%20Washington%20Fatal%20Crash%20Files%20-%20Washington%20Traffic%20Safety%20Commission/Data_Washington%20Fatal%20Crash%20Survey.csv\")"
      ],
      "metadata": {
        "colab": {
          "base_uri": "https://localhost:8080/"
        },
        "id": "DSZz5QKFFhMq",
        "outputId": "1c2a9e09-5788-49fb-a5a6-444d2e2ea2f5"
      },
      "execution_count": 3,
      "outputs": [
        {
          "output_type": "stream",
          "name": "stderr",
          "text": [
            "/usr/local/lib/python3.8/dist-packages/IPython/core/interactiveshell.py:3326: DtypeWarning: Columns (21,22,23,301,303) have mixed types.Specify dtype option on import or set low_memory=False.\n",
            "  exec(code_obj, self.user_global_ns, self.user_ns)\n"
          ]
        }
      ]
    },
    {
      "cell_type": "code",
      "source": [
        "orig_data.head()"
      ],
      "metadata": {
        "colab": {
          "base_uri": "https://localhost:8080/",
          "height": 235
        },
        "id": "VEWl3w2xFvpl",
        "outputId": "f2e7b7e7-af86-4400-f22f-9a6c57f018bb"
      },
      "execution_count": 4,
      "outputs": [
        {
          "output_type": "execute_result",
          "data": {
            "text/plain": [
              "   year  case      par  repjur    crash_dt crash_tm  accday  accmon  holiday  \\\n",
              "0  2017     1  E628946     2.0  01/01/2017     2:12       1       1      1.0   \n",
              "1  2017     2  E627989    26.0  01/02/2017    17:14       2       1      1.0   \n",
              "2  2017     4  3747633   263.0  01/01/2017    18:47       1       1      1.0   \n",
              "3  2017     5  E628691     4.0  01/01/2017     3:50       1       1      1.0   \n",
              "4  2017     6  3746306   263.0  01/05/2017     9:53       5       1      0.0   \n",
              "\n",
              "   county  ... nmdistract6  lab  isedtcase  crf1  crf2  crf3  CoRoadName  \\\n",
              "0      61  ...         NaN  NaN        NaN   NaN   NaN   NaN         NaN   \n",
              "1      35  ...         NaN  NaN        NaN   NaN   NaN   NaN         NaN   \n",
              "2      33  ...         NaN  NaN        NaN   NaN   NaN   NaN         NaN   \n",
              "3      63  ...         NaN  NaN        NaN   NaN   NaN   NaN         NaN   \n",
              "4      33  ...         NaN  NaN        NaN   NaN   NaN   NaN         NaN   \n",
              "\n",
              "   CoMP  IntCoRoadName  IntCoMP  \n",
              "0   NaN            NaN      NaN  \n",
              "1   NaN            NaN      NaN  \n",
              "2   NaN            NaN      NaN  \n",
              "3   NaN            NaN      NaN  \n",
              "4   NaN            NaN      NaN  \n",
              "\n",
              "[5 rows x 305 columns]"
            ],
            "text/html": [
              "\n",
              "  <div id=\"df-f3b29d46-2a64-43a7-862e-4ff99c12039d\">\n",
              "    <div class=\"colab-df-container\">\n",
              "      <div>\n",
              "<style scoped>\n",
              "    .dataframe tbody tr th:only-of-type {\n",
              "        vertical-align: middle;\n",
              "    }\n",
              "\n",
              "    .dataframe tbody tr th {\n",
              "        vertical-align: top;\n",
              "    }\n",
              "\n",
              "    .dataframe thead th {\n",
              "        text-align: right;\n",
              "    }\n",
              "</style>\n",
              "<table border=\"1\" class=\"dataframe\">\n",
              "  <thead>\n",
              "    <tr style=\"text-align: right;\">\n",
              "      <th></th>\n",
              "      <th>year</th>\n",
              "      <th>case</th>\n",
              "      <th>par</th>\n",
              "      <th>repjur</th>\n",
              "      <th>crash_dt</th>\n",
              "      <th>crash_tm</th>\n",
              "      <th>accday</th>\n",
              "      <th>accmon</th>\n",
              "      <th>holiday</th>\n",
              "      <th>county</th>\n",
              "      <th>...</th>\n",
              "      <th>nmdistract6</th>\n",
              "      <th>lab</th>\n",
              "      <th>isedtcase</th>\n",
              "      <th>crf1</th>\n",
              "      <th>crf2</th>\n",
              "      <th>crf3</th>\n",
              "      <th>CoRoadName</th>\n",
              "      <th>CoMP</th>\n",
              "      <th>IntCoRoadName</th>\n",
              "      <th>IntCoMP</th>\n",
              "    </tr>\n",
              "  </thead>\n",
              "  <tbody>\n",
              "    <tr>\n",
              "      <th>0</th>\n",
              "      <td>2017</td>\n",
              "      <td>1</td>\n",
              "      <td>E628946</td>\n",
              "      <td>2.0</td>\n",
              "      <td>01/01/2017</td>\n",
              "      <td>2:12</td>\n",
              "      <td>1</td>\n",
              "      <td>1</td>\n",
              "      <td>1.0</td>\n",
              "      <td>61</td>\n",
              "      <td>...</td>\n",
              "      <td>NaN</td>\n",
              "      <td>NaN</td>\n",
              "      <td>NaN</td>\n",
              "      <td>NaN</td>\n",
              "      <td>NaN</td>\n",
              "      <td>NaN</td>\n",
              "      <td>NaN</td>\n",
              "      <td>NaN</td>\n",
              "      <td>NaN</td>\n",
              "      <td>NaN</td>\n",
              "    </tr>\n",
              "    <tr>\n",
              "      <th>1</th>\n",
              "      <td>2017</td>\n",
              "      <td>2</td>\n",
              "      <td>E627989</td>\n",
              "      <td>26.0</td>\n",
              "      <td>01/02/2017</td>\n",
              "      <td>17:14</td>\n",
              "      <td>2</td>\n",
              "      <td>1</td>\n",
              "      <td>1.0</td>\n",
              "      <td>35</td>\n",
              "      <td>...</td>\n",
              "      <td>NaN</td>\n",
              "      <td>NaN</td>\n",
              "      <td>NaN</td>\n",
              "      <td>NaN</td>\n",
              "      <td>NaN</td>\n",
              "      <td>NaN</td>\n",
              "      <td>NaN</td>\n",
              "      <td>NaN</td>\n",
              "      <td>NaN</td>\n",
              "      <td>NaN</td>\n",
              "    </tr>\n",
              "    <tr>\n",
              "      <th>2</th>\n",
              "      <td>2017</td>\n",
              "      <td>4</td>\n",
              "      <td>3747633</td>\n",
              "      <td>263.0</td>\n",
              "      <td>01/01/2017</td>\n",
              "      <td>18:47</td>\n",
              "      <td>1</td>\n",
              "      <td>1</td>\n",
              "      <td>1.0</td>\n",
              "      <td>33</td>\n",
              "      <td>...</td>\n",
              "      <td>NaN</td>\n",
              "      <td>NaN</td>\n",
              "      <td>NaN</td>\n",
              "      <td>NaN</td>\n",
              "      <td>NaN</td>\n",
              "      <td>NaN</td>\n",
              "      <td>NaN</td>\n",
              "      <td>NaN</td>\n",
              "      <td>NaN</td>\n",
              "      <td>NaN</td>\n",
              "    </tr>\n",
              "    <tr>\n",
              "      <th>3</th>\n",
              "      <td>2017</td>\n",
              "      <td>5</td>\n",
              "      <td>E628691</td>\n",
              "      <td>4.0</td>\n",
              "      <td>01/01/2017</td>\n",
              "      <td>3:50</td>\n",
              "      <td>1</td>\n",
              "      <td>1</td>\n",
              "      <td>1.0</td>\n",
              "      <td>63</td>\n",
              "      <td>...</td>\n",
              "      <td>NaN</td>\n",
              "      <td>NaN</td>\n",
              "      <td>NaN</td>\n",
              "      <td>NaN</td>\n",
              "      <td>NaN</td>\n",
              "      <td>NaN</td>\n",
              "      <td>NaN</td>\n",
              "      <td>NaN</td>\n",
              "      <td>NaN</td>\n",
              "      <td>NaN</td>\n",
              "    </tr>\n",
              "    <tr>\n",
              "      <th>4</th>\n",
              "      <td>2017</td>\n",
              "      <td>6</td>\n",
              "      <td>3746306</td>\n",
              "      <td>263.0</td>\n",
              "      <td>01/05/2017</td>\n",
              "      <td>9:53</td>\n",
              "      <td>5</td>\n",
              "      <td>1</td>\n",
              "      <td>0.0</td>\n",
              "      <td>33</td>\n",
              "      <td>...</td>\n",
              "      <td>NaN</td>\n",
              "      <td>NaN</td>\n",
              "      <td>NaN</td>\n",
              "      <td>NaN</td>\n",
              "      <td>NaN</td>\n",
              "      <td>NaN</td>\n",
              "      <td>NaN</td>\n",
              "      <td>NaN</td>\n",
              "      <td>NaN</td>\n",
              "      <td>NaN</td>\n",
              "    </tr>\n",
              "  </tbody>\n",
              "</table>\n",
              "<p>5 rows × 305 columns</p>\n",
              "</div>\n",
              "      <button class=\"colab-df-convert\" onclick=\"convertToInteractive('df-f3b29d46-2a64-43a7-862e-4ff99c12039d')\"\n",
              "              title=\"Convert this dataframe to an interactive table.\"\n",
              "              style=\"display:none;\">\n",
              "        \n",
              "  <svg xmlns=\"http://www.w3.org/2000/svg\" height=\"24px\"viewBox=\"0 0 24 24\"\n",
              "       width=\"24px\">\n",
              "    <path d=\"M0 0h24v24H0V0z\" fill=\"none\"/>\n",
              "    <path d=\"M18.56 5.44l.94 2.06.94-2.06 2.06-.94-2.06-.94-.94-2.06-.94 2.06-2.06.94zm-11 1L8.5 8.5l.94-2.06 2.06-.94-2.06-.94L8.5 2.5l-.94 2.06-2.06.94zm10 10l.94 2.06.94-2.06 2.06-.94-2.06-.94-.94-2.06-.94 2.06-2.06.94z\"/><path d=\"M17.41 7.96l-1.37-1.37c-.4-.4-.92-.59-1.43-.59-.52 0-1.04.2-1.43.59L10.3 9.45l-7.72 7.72c-.78.78-.78 2.05 0 2.83L4 21.41c.39.39.9.59 1.41.59.51 0 1.02-.2 1.41-.59l7.78-7.78 2.81-2.81c.8-.78.8-2.07 0-2.86zM5.41 20L4 18.59l7.72-7.72 1.47 1.35L5.41 20z\"/>\n",
              "  </svg>\n",
              "      </button>\n",
              "      \n",
              "  <style>\n",
              "    .colab-df-container {\n",
              "      display:flex;\n",
              "      flex-wrap:wrap;\n",
              "      gap: 12px;\n",
              "    }\n",
              "\n",
              "    .colab-df-convert {\n",
              "      background-color: #E8F0FE;\n",
              "      border: none;\n",
              "      border-radius: 50%;\n",
              "      cursor: pointer;\n",
              "      display: none;\n",
              "      fill: #1967D2;\n",
              "      height: 32px;\n",
              "      padding: 0 0 0 0;\n",
              "      width: 32px;\n",
              "    }\n",
              "\n",
              "    .colab-df-convert:hover {\n",
              "      background-color: #E2EBFA;\n",
              "      box-shadow: 0px 1px 2px rgba(60, 64, 67, 0.3), 0px 1px 3px 1px rgba(60, 64, 67, 0.15);\n",
              "      fill: #174EA6;\n",
              "    }\n",
              "\n",
              "    [theme=dark] .colab-df-convert {\n",
              "      background-color: #3B4455;\n",
              "      fill: #D2E3FC;\n",
              "    }\n",
              "\n",
              "    [theme=dark] .colab-df-convert:hover {\n",
              "      background-color: #434B5C;\n",
              "      box-shadow: 0px 1px 3px 1px rgba(0, 0, 0, 0.15);\n",
              "      filter: drop-shadow(0px 1px 2px rgba(0, 0, 0, 0.3));\n",
              "      fill: #FFFFFF;\n",
              "    }\n",
              "  </style>\n",
              "\n",
              "      <script>\n",
              "        const buttonEl =\n",
              "          document.querySelector('#df-f3b29d46-2a64-43a7-862e-4ff99c12039d button.colab-df-convert');\n",
              "        buttonEl.style.display =\n",
              "          google.colab.kernel.accessAllowed ? 'block' : 'none';\n",
              "\n",
              "        async function convertToInteractive(key) {\n",
              "          const element = document.querySelector('#df-f3b29d46-2a64-43a7-862e-4ff99c12039d');\n",
              "          const dataTable =\n",
              "            await google.colab.kernel.invokeFunction('convertToInteractive',\n",
              "                                                     [key], {});\n",
              "          if (!dataTable) return;\n",
              "\n",
              "          const docLinkHtml = 'Like what you see? Visit the ' +\n",
              "            '<a target=\"_blank\" href=https://colab.research.google.com/notebooks/data_table.ipynb>data table notebook</a>'\n",
              "            + ' to learn more about interactive tables.';\n",
              "          element.innerHTML = '';\n",
              "          dataTable['output_type'] = 'display_data';\n",
              "          await google.colab.output.renderOutput(dataTable, element);\n",
              "          const docLink = document.createElement('div');\n",
              "          docLink.innerHTML = docLinkHtml;\n",
              "          element.appendChild(docLink);\n",
              "        }\n",
              "      </script>\n",
              "    </div>\n",
              "  </div>\n",
              "  "
            ]
          },
          "metadata": {},
          "execution_count": 4
        }
      ]
    },
    {
      "cell_type": "markdown",
      "source": [
        "REVERSE GEOCODING"
      ],
      "metadata": {
        "id": "QH3a3NOE4X7N"
      }
    },
    {
      "cell_type": "code",
      "source": [
        "locator = Nominatim(user_agent=\"myGeocoder\")"
      ],
      "metadata": {
        "id": "7279FDzz1TUJ"
      },
      "execution_count": 11,
      "outputs": []
    },
    {
      "cell_type": "code",
      "source": [
        "# Input: lat and long coordinates\n",
        "# Output: dictionary containing 'address' -> 'postcode' and other address fields\n",
        "def reverse_geo(x, y):\n",
        "  try:\n",
        "    return locator.reverse((x,y)).raw\n",
        "  except ValueError:\n",
        "    print(x, y)"
      ],
      "metadata": {
        "id": "1R3lvlLl0sZ2"
      },
      "execution_count": 20,
      "outputs": []
    },
    {
      "cell_type": "code",
      "source": [
        "# Input: geo dictionary\n",
        "# Output: zipcode\n",
        "def get_zipcode(geodict):\n",
        "  try:\n",
        "    return geodict['address']['postcode']\n",
        "  except KeyError:\n",
        "    return np.nan"
      ],
      "metadata": {
        "id": "hXQesMj4L6Oi"
      },
      "execution_count": 41,
      "outputs": []
    },
    {
      "cell_type": "code",
      "source": [
        "#x, y = 40.7128, -74.0060\n",
        "#reverse_geo(x, y)"
      ],
      "metadata": {
        "colab": {
          "base_uri": "https://localhost:8080/"
        },
        "id": "QTRokxI1wt3o",
        "outputId": "cbb5f32f-682f-487f-b8d3-16bc5567a6b0"
      },
      "execution_count": 13,
      "outputs": [
        {
          "output_type": "execute_result",
          "data": {
            "text/plain": [
              "{'place_id': 226179173,\n",
              " 'licence': 'Data © OpenStreetMap contributors, ODbL 1.0. https://osm.org/copyright',\n",
              " 'osm_type': 'way',\n",
              " 'osm_id': 575213527,\n",
              " 'lat': '40.71273945',\n",
              " 'lon': '-74.00593904130275',\n",
              " 'display_name': 'New York City Hall, 260, Broadway, Lower Manhattan, Manhattan Community Board 1, Manhattan, New York County, City of New York, New York, 10000, United States',\n",
              " 'address': {'amenity': 'New York City Hall',\n",
              "  'house_number': '260',\n",
              "  'road': 'Broadway',\n",
              "  'quarter': 'Lower Manhattan',\n",
              "  'neighbourhood': 'Manhattan Community Board 1',\n",
              "  'suburb': 'Manhattan',\n",
              "  'county': 'New York County',\n",
              "  'city': 'City of New York',\n",
              "  'state': 'New York',\n",
              "  'ISO3166-2-lvl4': 'US-NY',\n",
              "  'postcode': '10000',\n",
              "  'country': 'United States',\n",
              "  'country_code': 'us'},\n",
              " 'boundingbox': ['40.712445', '40.7130254', '-74.0064455', '-74.0055687']}"
            ]
          },
          "metadata": {},
          "execution_count": 13
        }
      ]
    },
    {
      "cell_type": "code",
      "source": [
        "orig_data['zipcode'] = orig_data.apply(lambda row: get_zipcode(reverse_geo(row['y'], row['x'])), axis=1)"
      ],
      "metadata": {
        "id": "f3YKZAzEGWVy"
      },
      "execution_count": 43,
      "outputs": []
    },
    {
      "cell_type": "code",
      "source": [
        "orig_data.to_csv('/content/gdrive/My Drive/Colab Notebooks/IC23/Data_Washington_Fatal_Crash_Survey_with_zip.csv')"
      ],
      "metadata": {
        "id": "jM-ZKEHf01qu"
      },
      "execution_count": 51,
      "outputs": []
    },
    {
      "cell_type": "markdown",
      "source": [
        "AUGMENTING WITH OSM DATA"
      ],
      "metadata": {
        "id": "YNp5V-KDXDDa"
      }
    },
    {
      "cell_type": "code",
      "source": [
        "!pip install pyrosm"
      ],
      "metadata": {
        "colab": {
          "base_uri": "https://localhost:8080/"
        },
        "id": "Us8qRBiOYIA3",
        "outputId": "a5cc93fc-ab30-43c9-d770-ae6013e32806"
      },
      "execution_count": 56,
      "outputs": [
        {
          "output_type": "stream",
          "name": "stdout",
          "text": [
            "Looking in indexes: https://pypi.org/simple, https://us-python.pkg.dev/colab-wheels/public/simple/\n",
            "Collecting pyrosm\n",
            "  Downloading pyrosm-0.6.1.tar.gz (2.1 MB)\n",
            "\u001b[2K     \u001b[90m━━━━━━━━━━━━━━━━━━━━━━━━━━━━━━━━━━━━━━━━\u001b[0m \u001b[32m2.1/2.1 MB\u001b[0m \u001b[31m40.0 MB/s\u001b[0m eta \u001b[36m0:00:00\u001b[0m\n",
            "\u001b[?25h  Installing build dependencies ... \u001b[?25l\u001b[?25hdone\n",
            "  Getting requirements to build wheel ... \u001b[?25l\u001b[?25hdone\n",
            "  Preparing metadata (pyproject.toml) ... \u001b[?25l\u001b[?25hdone\n",
            "Collecting cykhash\n",
            "  Using cached cykhash-2.0.1-cp38-cp38-linux_x86_64.whl\n",
            "Collecting pyrobuf\n",
            "  Using cached pyrobuf-0.9.3-cp38-cp38-linux_x86_64.whl\n",
            "Collecting python-rapidjson\n",
            "  Downloading python_rapidjson-1.9-cp38-cp38-manylinux_2_17_x86_64.manylinux2014_x86_64.whl (1.6 MB)\n",
            "\u001b[2K     \u001b[90m━━━━━━━━━━━━━━━━━━━━━━━━━━━━━━━━━━━━━━━━\u001b[0m \u001b[32m1.6/1.6 MB\u001b[0m \u001b[31m58.4 MB/s\u001b[0m eta \u001b[36m0:00:00\u001b[0m\n",
            "\u001b[?25hCollecting pygeos\n",
            "  Downloading pygeos-0.14-cp38-cp38-manylinux_2_17_x86_64.manylinux2014_x86_64.whl (2.2 MB)\n",
            "\u001b[2K     \u001b[90m━━━━━━━━━━━━━━━━━━━━━━━━━━━━━━━━━━━━━━━━\u001b[0m \u001b[32m2.2/2.2 MB\u001b[0m \u001b[31m75.8 MB/s\u001b[0m eta \u001b[36m0:00:00\u001b[0m\n",
            "\u001b[?25hRequirement already satisfied: setuptools>=18.0 in /usr/local/lib/python3.8/dist-packages (from pyrosm) (57.4.0)\n",
            "Collecting geopandas>=0.8.0\n",
            "  Downloading geopandas-0.12.2-py3-none-any.whl (1.1 MB)\n",
            "\u001b[2K     \u001b[90m━━━━━━━━━━━━━━━━━━━━━━━━━━━━━━━━━━━━━━━━\u001b[0m \u001b[32m1.1/1.1 MB\u001b[0m \u001b[31m60.2 MB/s\u001b[0m eta \u001b[36m0:00:00\u001b[0m\n",
            "\u001b[?25hRequirement already satisfied: packaging in /usr/local/lib/python3.8/dist-packages (from geopandas>=0.8.0->pyrosm) (23.0)\n",
            "Requirement already satisfied: shapely>=1.7 in /usr/local/lib/python3.8/dist-packages (from geopandas>=0.8.0->pyrosm) (2.0.1)\n",
            "Collecting pyproj>=2.6.1.post1\n",
            "  Downloading pyproj-3.4.1-cp38-cp38-manylinux_2_17_x86_64.manylinux2014_x86_64.whl (7.8 MB)\n",
            "\u001b[2K     \u001b[90m━━━━━━━━━━━━━━━━━━━━━━━━━━━━━━━━━━━━━━━━\u001b[0m \u001b[32m7.8/7.8 MB\u001b[0m \u001b[31m85.8 MB/s\u001b[0m eta \u001b[36m0:00:00\u001b[0m\n",
            "\u001b[?25hCollecting fiona>=1.8\n",
            "  Downloading Fiona-1.9.1-cp38-cp38-manylinux_2_17_x86_64.manylinux2014_x86_64.whl (16.0 MB)\n",
            "\u001b[2K     \u001b[90m━━━━━━━━━━━━━━━━━━━━━━━━━━━━━━━━━━━━━━━━\u001b[0m \u001b[32m16.0/16.0 MB\u001b[0m \u001b[31m66.5 MB/s\u001b[0m eta \u001b[36m0:00:00\u001b[0m\n",
            "\u001b[?25hRequirement already satisfied: pandas>=1.0.0 in /usr/local/lib/python3.8/dist-packages (from geopandas>=0.8.0->pyrosm) (1.3.5)\n",
            "Requirement already satisfied: numpy>=1.13 in /usr/local/lib/python3.8/dist-packages (from pygeos->pyrosm) (1.22.4)\n",
            "Requirement already satisfied: cython>=0.23 in /usr/local/lib/python3.8/dist-packages (from pyrobuf->pyrosm) (0.29.33)\n",
            "Requirement already satisfied: jinja2>=2.8 in /usr/local/lib/python3.8/dist-packages (from pyrobuf->pyrosm) (2.11.3)\n",
            "Requirement already satisfied: attrs>=19.2.0 in /usr/local/lib/python3.8/dist-packages (from fiona>=1.8->geopandas>=0.8.0->pyrosm) (22.2.0)\n",
            "Collecting click~=8.0\n",
            "  Downloading click-8.1.3-py3-none-any.whl (96 kB)\n",
            "\u001b[2K     \u001b[90m━━━━━━━━━━━━━━━━━━━━━━━━━━━━━━━━━━━━━━━━\u001b[0m \u001b[32m96.6/96.6 KB\u001b[0m \u001b[31m9.1 MB/s\u001b[0m eta \u001b[36m0:00:00\u001b[0m\n",
            "\u001b[?25hCollecting click-plugins>=1.0\n",
            "  Downloading click_plugins-1.1.1-py2.py3-none-any.whl (7.5 kB)\n",
            "Requirement already satisfied: certifi in /usr/local/lib/python3.8/dist-packages (from fiona>=1.8->geopandas>=0.8.0->pyrosm) (2022.12.7)\n",
            "Collecting munch>=2.3.2\n",
            "  Downloading munch-2.5.0-py2.py3-none-any.whl (10 kB)\n",
            "Collecting cligj>=0.5\n",
            "  Downloading cligj-0.7.2-py3-none-any.whl (7.1 kB)\n",
            "Requirement already satisfied: MarkupSafe>=0.23 in /usr/local/lib/python3.8/dist-packages (from jinja2>=2.8->pyrobuf->pyrosm) (2.0.1)\n",
            "Requirement already satisfied: pytz>=2017.3 in /usr/local/lib/python3.8/dist-packages (from pandas>=1.0.0->geopandas>=0.8.0->pyrosm) (2022.7.1)\n",
            "Requirement already satisfied: python-dateutil>=2.7.3 in /usr/local/lib/python3.8/dist-packages (from pandas>=1.0.0->geopandas>=0.8.0->pyrosm) (2.8.2)\n",
            "Requirement already satisfied: six in /usr/local/lib/python3.8/dist-packages (from munch>=2.3.2->fiona>=1.8->geopandas>=0.8.0->pyrosm) (1.15.0)\n",
            "Building wheels for collected packages: pyrosm\n",
            "  Building wheel for pyrosm (pyproject.toml) ... \u001b[?25l\u001b[?25hdone\n",
            "  Created wheel for pyrosm: filename=pyrosm-0.6.1-cp38-cp38-linux_x86_64.whl size=8137830 sha256=e80f785746b36a4275e7c22d81146e7a15e60b07902133c0091e732cca6eac51\n",
            "  Stored in directory: /root/.cache/pip/wheels/58/60/9e/fa165b40f8ffb22b391c38e3e4bded072fcd75c6a3e811ee6e\n",
            "Successfully built pyrosm\n",
            "Installing collected packages: cykhash, python-rapidjson, pyproj, pygeos, munch, click, pyrobuf, cligj, click-plugins, fiona, geopandas, pyrosm\n",
            "  Attempting uninstall: click\n",
            "    Found existing installation: click 7.1.2\n",
            "    Uninstalling click-7.1.2:\n",
            "      Successfully uninstalled click-7.1.2\n",
            "\u001b[31mERROR: pip's dependency resolver does not currently take into account all the packages that are installed. This behaviour is the source of the following dependency conflicts.\n",
            "flask 1.1.4 requires click<8.0,>=5.1, but you have click 8.1.3 which is incompatible.\u001b[0m\u001b[31m\n",
            "\u001b[0mSuccessfully installed click-8.1.3 click-plugins-1.1.1 cligj-0.7.2 cykhash-2.0.1 fiona-1.9.1 geopandas-0.12.2 munch-2.5.0 pygeos-0.14 pyproj-3.4.1 pyrobuf-0.9.3 pyrosm-0.6.1 python-rapidjson-1.9\n"
          ]
        }
      ]
    },
    {
      "cell_type": "code",
      "source": [
        "from pyrosm import OSM\n",
        "from pyrosm import get_data\n",
        "from pyrosm.data import sources"
      ],
      "metadata": {
        "colab": {
          "base_uri": "https://localhost:8080/"
        },
        "id": "MyfOj17EYDdS",
        "outputId": "d5eca308-a764-4cc1-e9a7-ff3326d2eeab"
      },
      "execution_count": 3,
      "outputs": [
        {
          "output_type": "stream",
          "name": "stderr",
          "text": [
            "/usr/local/lib/python3.8/dist-packages/geopandas/_compat.py:123: UserWarning: The Shapely GEOS version (3.11.1-CAPI-1.17.1) is incompatible with the GEOS version PyGEOS was compiled with (3.10.4-CAPI-1.16.2). Conversions between both will be slow.\n",
            "  warnings.warn(\n",
            "/usr/local/lib/python3.8/dist-packages/pyrosm/utils/__init__.py:8: UserWarning: Shapely 2.0 is installed, but because PyGEOS is also installed, GeoPandas will still use PyGEOS by default for now. To force to use and test Shapely 2.0, you have to set the environment variable USE_PYGEOS=0. You can do this before starting the Python process, or in your code before importing geopandas:\n",
            "\n",
            "import os\n",
            "os.environ['USE_PYGEOS'] = '0'\n",
            "import geopandas\n",
            "\n",
            "In a future release, GeoPandas will switch to using Shapely by default. If you are using PyGEOS directly (calling PyGEOS functions on geometries from GeoPandas), this will then stop working and you are encouraged to migrate from PyGEOS to Shapely 2.0 (https://shapely.readthedocs.io/en/latest/migration_pygeos.html).\n",
            "  import geopandas as gpd\n"
          ]
        }
      ]
    },
    {
      "cell_type": "code",
      "source": [
        "data_with_zip = pd.read_csv('https://raw.githubusercontent.com/osullik/ic23050/main/L4%20Washington%20Fatal%20Crash%20Files%20-%20Washington%20Traffic%20Safety%20Commission/Data_Washington_Fatal_Crash_Survey_with_zip.csv')"
      ],
      "metadata": {
        "colab": {
          "base_uri": "https://localhost:8080/"
        },
        "id": "2OZ8MHwHXG_u",
        "outputId": "520d40e3-5c68-446f-b234-d07d3c87c4ce"
      },
      "execution_count": 4,
      "outputs": [
        {
          "output_type": "stream",
          "name": "stderr",
          "text": [
            "/usr/local/lib/python3.8/dist-packages/IPython/core/interactiveshell.py:3326: DtypeWarning: Columns (22,23,24,302,304) have mixed types.Specify dtype option on import or set low_memory=False.\n",
            "  exec(code_obj, self.user_global_ns, self.user_ns)\n"
          ]
        }
      ]
    },
    {
      "cell_type": "code",
      "source": [
        "# Grab OSM data from pyrosm\n",
        "fp = get_data(\"washington\") # AKA sources.north_america.usa.washington also at '/content/gdrive/My Drive/Colab Notebooks/IC23/washington-latest.osm.bz2'\n",
        "\n",
        "# Initialize the OSM parser object\n",
        "osm = OSM(fp)"
      ],
      "metadata": {
        "id": "6iJkQm6BXXGQ"
      },
      "execution_count": 4,
      "outputs": []
    },
    {
      "cell_type": "code",
      "source": [
        "# Read all drivable roads\n",
        "drive_net = osm.get_network(network_type=\"driving\")\n",
        "drive_net.plot()"
      ],
      "metadata": {
        "id": "cdvFls1ub6Ba"
      },
      "execution_count": null,
      "outputs": []
    },
    {
      "cell_type": "code",
      "source": [
        "drive_net.head(2)"
      ],
      "metadata": {
        "id": "DLvzmewYa0nP"
      },
      "execution_count": null,
      "outputs": []
    },
    {
      "cell_type": "markdown",
      "source": [
        "AUGMENT ZIPCODES WITH DEMOGRAPHICS"
      ],
      "metadata": {
        "id": "Knr6YlHChgyO"
      }
    },
    {
      "cell_type": "code",
      "source": [
        "!pip install uszipcode"
      ],
      "metadata": {
        "id": "wmIepVJNhkcr",
        "outputId": "f0ac9eb6-6746-48fd-ccba-362757fe79ef",
        "colab": {
          "base_uri": "https://localhost:8080/"
        }
      },
      "execution_count": 5,
      "outputs": [
        {
          "output_type": "stream",
          "name": "stdout",
          "text": [
            "Looking in indexes: https://pypi.org/simple, https://us-python.pkg.dev/colab-wheels/public/simple/\n",
            "Collecting uszipcode\n",
            "  Downloading uszipcode-1.0.1-py2.py3-none-any.whl (35 kB)\n",
            "Requirement already satisfied: requests in /usr/local/lib/python3.8/dist-packages (from uszipcode) (2.25.1)\n",
            "Collecting pathlib-mate\n",
            "  Downloading pathlib_mate-1.2.1-py2.py3-none-any.whl (121 kB)\n",
            "\u001b[2K     \u001b[90m━━━━━━━━━━━━━━━━━━━━━━━━━━━━━━━━━━━━━━━\u001b[0m \u001b[32m121.5/121.5 KB\u001b[0m \u001b[31m9.8 MB/s\u001b[0m eta \u001b[36m0:00:00\u001b[0m\n",
            "\u001b[?25hRequirement already satisfied: attrs in /usr/local/lib/python3.8/dist-packages (from uszipcode) (22.2.0)\n",
            "Collecting haversine>=2.5.0\n",
            "  Downloading haversine-2.7.0-py2.py3-none-any.whl (6.9 kB)\n",
            "Requirement already satisfied: SQLAlchemy>=1.4.0 in /usr/local/lib/python3.8/dist-packages (from uszipcode) (1.4.46)\n",
            "Collecting fuzzywuzzy\n",
            "  Downloading fuzzywuzzy-0.18.0-py2.py3-none-any.whl (18 kB)\n",
            "Requirement already satisfied: atomicwrites in /usr/local/lib/python3.8/dist-packages (from uszipcode) (1.4.1)\n",
            "Collecting sqlalchemy-mate>=1.4.28.3\n",
            "  Downloading sqlalchemy_mate-1.4.28.3-py2.py3-none-any.whl (76 kB)\n",
            "\u001b[2K     \u001b[90m━━━━━━━━━━━━━━━━━━━━━━━━━━━━━━━━━━━━━━━━\u001b[0m \u001b[32m76.4/76.4 KB\u001b[0m \u001b[31m7.0 MB/s\u001b[0m eta \u001b[36m0:00:00\u001b[0m\n",
            "\u001b[?25hRequirement already satisfied: greenlet!=0.4.17 in /usr/local/lib/python3.8/dist-packages (from SQLAlchemy>=1.4.0->uszipcode) (2.0.2)\n",
            "Requirement already satisfied: prettytable in /usr/local/lib/python3.8/dist-packages (from sqlalchemy-mate>=1.4.28.3->uszipcode) (3.6.0)\n",
            "Requirement already satisfied: six in /usr/local/lib/python3.8/dist-packages (from pathlib-mate->uszipcode) (1.15.0)\n",
            "Requirement already satisfied: urllib3<1.27,>=1.21.1 in /usr/local/lib/python3.8/dist-packages (from requests->uszipcode) (1.24.3)\n",
            "Requirement already satisfied: chardet<5,>=3.0.2 in /usr/local/lib/python3.8/dist-packages (from requests->uszipcode) (4.0.0)\n",
            "Requirement already satisfied: certifi>=2017.4.17 in /usr/local/lib/python3.8/dist-packages (from requests->uszipcode) (2022.12.7)\n",
            "Requirement already satisfied: idna<3,>=2.5 in /usr/local/lib/python3.8/dist-packages (from requests->uszipcode) (2.10)\n",
            "Requirement already satisfied: wcwidth in /usr/local/lib/python3.8/dist-packages (from prettytable->sqlalchemy-mate>=1.4.28.3->uszipcode) (0.2.6)\n",
            "Installing collected packages: fuzzywuzzy, pathlib-mate, haversine, sqlalchemy-mate, uszipcode\n",
            "Successfully installed fuzzywuzzy-0.18.0 haversine-2.7.0 pathlib-mate-1.2.1 sqlalchemy-mate-1.4.28.3 uszipcode-1.0.1\n"
          ]
        }
      ]
    },
    {
      "cell_type": "code",
      "source": [
        "from uszipcode import SearchEngine  # data.census.gov"
      ],
      "metadata": {
        "id": "EQYwMLh_hphD"
      },
      "execution_count": 8,
      "outputs": []
    },
    {
      "cell_type": "code",
      "source": [
        "def augment_zip(zipcode):\n",
        "  aug_zip = SearchEngine().by_zipcode(zipcode)\n",
        "  return aug_zip.zipcode, aug_zip.major_city, aug_zip.population  # TODO edit fields to be what we want to add to the data listed here: https://uszipcode.readthedocs.io/\n",
        "\n",
        "print(augment_zip(11790))"
      ],
      "metadata": {
        "id": "5G82t0JmjRCI",
        "outputId": "db920bba-3b4c-4f43-b837-5207bfa1519a",
        "colab": {
          "base_uri": "https://localhost:8080/"
        }
      },
      "execution_count": 13,
      "outputs": [
        {
          "output_type": "stream",
          "name": "stdout",
          "text": [
            "('11790', 'Stony Brook', 18511)\n"
          ]
        }
      ]
    }
  ]
}