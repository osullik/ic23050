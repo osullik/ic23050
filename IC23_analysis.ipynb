{
  "nbformat": 4,
  "nbformat_minor": 0,
  "metadata": {
    "colab": {
      "provenance": []
    },
    "kernelspec": {
      "name": "python3",
      "display_name": "Python 3"
    },
    "language_info": {
      "name": "python"
    }
  },
  "cells": [
    {
      "cell_type": "markdown",
      "source": [
        "IMPORTS"
      ],
      "metadata": {
        "id": "tbzU6k4o4-wF"
      }
    },
    {
      "cell_type": "code",
      "execution_count": 37,
      "metadata": {
        "id": "7rmYfmfWwlj_"
      },
      "outputs": [],
      "source": [
        "from google.colab import drive\n",
        "from geopy.geocoders import Nominatim\n",
        "import pandas as pd\n",
        "import numpy as np"
      ]
    },
    {
      "cell_type": "markdown",
      "source": [
        "LOADING DATA"
      ],
      "metadata": {
        "id": "VpulzUzQ4eMY"
      }
    },
    {
      "cell_type": "code",
      "source": [
        "drive.mount('/content/gdrive')\n",
        "%cd gdrive/My Drive/Colab Notebooks/IC23/"
      ],
      "metadata": {
        "id": "ifYU5iOM5WIF"
      },
      "execution_count": null,
      "outputs": []
    },
    {
      "cell_type": "code",
      "source": [
        "#! git clone https://github.com/osullik/ic23050.git\n",
        "#! git pull"
      ],
      "metadata": {
        "colab": {
          "base_uri": "https://localhost:8080/"
        },
        "id": "qy7UI2IM4hy5",
        "outputId": "59c020ee-6de9-453a-8167-e7a68167dd7b"
      },
      "execution_count": null,
      "outputs": [
        {
          "output_type": "stream",
          "name": "stdout",
          "text": [
            "Cloning into 'ic23050'...\n",
            "fatal: could not read Username for 'https://github.com': No such device or address\n",
            "fatal: not a git repository (or any parent up to mount point /content)\n",
            "Stopping at filesystem boundary (GIT_DISCOVERY_ACROSS_FILESYSTEM not set).\n"
          ]
        }
      ]
    },
    {
      "cell_type": "code",
      "source": [
        "orig_data = pd.read_csv(\"https://raw.githubusercontent.com/osullik/ic23050/main/L4%20Washington%20Fatal%20Crash%20Files%20-%20Washington%20Traffic%20Safety%20Commission/Data_Washington%20Fatal%20Crash%20Survey.csv\")"
      ],
      "metadata": {
        "id": "DSZz5QKFFhMq",
        "outputId": "1c2a9e09-5788-49fb-a5a6-444d2e2ea2f5",
        "colab": {
          "base_uri": "https://localhost:8080/"
        }
      },
      "execution_count": 3,
      "outputs": [
        {
          "output_type": "stream",
          "name": "stderr",
          "text": [
            "/usr/local/lib/python3.8/dist-packages/IPython/core/interactiveshell.py:3326: DtypeWarning: Columns (21,22,23,301,303) have mixed types.Specify dtype option on import or set low_memory=False.\n",
            "  exec(code_obj, self.user_global_ns, self.user_ns)\n"
          ]
        }
      ]
    },
    {
      "cell_type": "code",
      "source": [
        "orig_data.head()"
      ],
      "metadata": {
        "id": "VEWl3w2xFvpl",
        "outputId": "f2e7b7e7-af86-4400-f22f-9a6c57f018bb",
        "colab": {
          "base_uri": "https://localhost:8080/",
          "height": 235
        }
      },
      "execution_count": 4,
      "outputs": [
        {
          "output_type": "execute_result",
          "data": {
            "text/plain": [
              "   year  case      par  repjur    crash_dt crash_tm  accday  accmon  holiday  \\\n",
              "0  2017     1  E628946     2.0  01/01/2017     2:12       1       1      1.0   \n",
              "1  2017     2  E627989    26.0  01/02/2017    17:14       2       1      1.0   \n",
              "2  2017     4  3747633   263.0  01/01/2017    18:47       1       1      1.0   \n",
              "3  2017     5  E628691     4.0  01/01/2017     3:50       1       1      1.0   \n",
              "4  2017     6  3746306   263.0  01/05/2017     9:53       5       1      0.0   \n",
              "\n",
              "   county  ... nmdistract6  lab  isedtcase  crf1  crf2  crf3  CoRoadName  \\\n",
              "0      61  ...         NaN  NaN        NaN   NaN   NaN   NaN         NaN   \n",
              "1      35  ...         NaN  NaN        NaN   NaN   NaN   NaN         NaN   \n",
              "2      33  ...         NaN  NaN        NaN   NaN   NaN   NaN         NaN   \n",
              "3      63  ...         NaN  NaN        NaN   NaN   NaN   NaN         NaN   \n",
              "4      33  ...         NaN  NaN        NaN   NaN   NaN   NaN         NaN   \n",
              "\n",
              "   CoMP  IntCoRoadName  IntCoMP  \n",
              "0   NaN            NaN      NaN  \n",
              "1   NaN            NaN      NaN  \n",
              "2   NaN            NaN      NaN  \n",
              "3   NaN            NaN      NaN  \n",
              "4   NaN            NaN      NaN  \n",
              "\n",
              "[5 rows x 305 columns]"
            ],
            "text/html": [
              "\n",
              "  <div id=\"df-f3b29d46-2a64-43a7-862e-4ff99c12039d\">\n",
              "    <div class=\"colab-df-container\">\n",
              "      <div>\n",
              "<style scoped>\n",
              "    .dataframe tbody tr th:only-of-type {\n",
              "        vertical-align: middle;\n",
              "    }\n",
              "\n",
              "    .dataframe tbody tr th {\n",
              "        vertical-align: top;\n",
              "    }\n",
              "\n",
              "    .dataframe thead th {\n",
              "        text-align: right;\n",
              "    }\n",
              "</style>\n",
              "<table border=\"1\" class=\"dataframe\">\n",
              "  <thead>\n",
              "    <tr style=\"text-align: right;\">\n",
              "      <th></th>\n",
              "      <th>year</th>\n",
              "      <th>case</th>\n",
              "      <th>par</th>\n",
              "      <th>repjur</th>\n",
              "      <th>crash_dt</th>\n",
              "      <th>crash_tm</th>\n",
              "      <th>accday</th>\n",
              "      <th>accmon</th>\n",
              "      <th>holiday</th>\n",
              "      <th>county</th>\n",
              "      <th>...</th>\n",
              "      <th>nmdistract6</th>\n",
              "      <th>lab</th>\n",
              "      <th>isedtcase</th>\n",
              "      <th>crf1</th>\n",
              "      <th>crf2</th>\n",
              "      <th>crf3</th>\n",
              "      <th>CoRoadName</th>\n",
              "      <th>CoMP</th>\n",
              "      <th>IntCoRoadName</th>\n",
              "      <th>IntCoMP</th>\n",
              "    </tr>\n",
              "  </thead>\n",
              "  <tbody>\n",
              "    <tr>\n",
              "      <th>0</th>\n",
              "      <td>2017</td>\n",
              "      <td>1</td>\n",
              "      <td>E628946</td>\n",
              "      <td>2.0</td>\n",
              "      <td>01/01/2017</td>\n",
              "      <td>2:12</td>\n",
              "      <td>1</td>\n",
              "      <td>1</td>\n",
              "      <td>1.0</td>\n",
              "      <td>61</td>\n",
              "      <td>...</td>\n",
              "      <td>NaN</td>\n",
              "      <td>NaN</td>\n",
              "      <td>NaN</td>\n",
              "      <td>NaN</td>\n",
              "      <td>NaN</td>\n",
              "      <td>NaN</td>\n",
              "      <td>NaN</td>\n",
              "      <td>NaN</td>\n",
              "      <td>NaN</td>\n",
              "      <td>NaN</td>\n",
              "    </tr>\n",
              "    <tr>\n",
              "      <th>1</th>\n",
              "      <td>2017</td>\n",
              "      <td>2</td>\n",
              "      <td>E627989</td>\n",
              "      <td>26.0</td>\n",
              "      <td>01/02/2017</td>\n",
              "      <td>17:14</td>\n",
              "      <td>2</td>\n",
              "      <td>1</td>\n",
              "      <td>1.0</td>\n",
              "      <td>35</td>\n",
              "      <td>...</td>\n",
              "      <td>NaN</td>\n",
              "      <td>NaN</td>\n",
              "      <td>NaN</td>\n",
              "      <td>NaN</td>\n",
              "      <td>NaN</td>\n",
              "      <td>NaN</td>\n",
              "      <td>NaN</td>\n",
              "      <td>NaN</td>\n",
              "      <td>NaN</td>\n",
              "      <td>NaN</td>\n",
              "    </tr>\n",
              "    <tr>\n",
              "      <th>2</th>\n",
              "      <td>2017</td>\n",
              "      <td>4</td>\n",
              "      <td>3747633</td>\n",
              "      <td>263.0</td>\n",
              "      <td>01/01/2017</td>\n",
              "      <td>18:47</td>\n",
              "      <td>1</td>\n",
              "      <td>1</td>\n",
              "      <td>1.0</td>\n",
              "      <td>33</td>\n",
              "      <td>...</td>\n",
              "      <td>NaN</td>\n",
              "      <td>NaN</td>\n",
              "      <td>NaN</td>\n",
              "      <td>NaN</td>\n",
              "      <td>NaN</td>\n",
              "      <td>NaN</td>\n",
              "      <td>NaN</td>\n",
              "      <td>NaN</td>\n",
              "      <td>NaN</td>\n",
              "      <td>NaN</td>\n",
              "    </tr>\n",
              "    <tr>\n",
              "      <th>3</th>\n",
              "      <td>2017</td>\n",
              "      <td>5</td>\n",
              "      <td>E628691</td>\n",
              "      <td>4.0</td>\n",
              "      <td>01/01/2017</td>\n",
              "      <td>3:50</td>\n",
              "      <td>1</td>\n",
              "      <td>1</td>\n",
              "      <td>1.0</td>\n",
              "      <td>63</td>\n",
              "      <td>...</td>\n",
              "      <td>NaN</td>\n",
              "      <td>NaN</td>\n",
              "      <td>NaN</td>\n",
              "      <td>NaN</td>\n",
              "      <td>NaN</td>\n",
              "      <td>NaN</td>\n",
              "      <td>NaN</td>\n",
              "      <td>NaN</td>\n",
              "      <td>NaN</td>\n",
              "      <td>NaN</td>\n",
              "    </tr>\n",
              "    <tr>\n",
              "      <th>4</th>\n",
              "      <td>2017</td>\n",
              "      <td>6</td>\n",
              "      <td>3746306</td>\n",
              "      <td>263.0</td>\n",
              "      <td>01/05/2017</td>\n",
              "      <td>9:53</td>\n",
              "      <td>5</td>\n",
              "      <td>1</td>\n",
              "      <td>0.0</td>\n",
              "      <td>33</td>\n",
              "      <td>...</td>\n",
              "      <td>NaN</td>\n",
              "      <td>NaN</td>\n",
              "      <td>NaN</td>\n",
              "      <td>NaN</td>\n",
              "      <td>NaN</td>\n",
              "      <td>NaN</td>\n",
              "      <td>NaN</td>\n",
              "      <td>NaN</td>\n",
              "      <td>NaN</td>\n",
              "      <td>NaN</td>\n",
              "    </tr>\n",
              "  </tbody>\n",
              "</table>\n",
              "<p>5 rows × 305 columns</p>\n",
              "</div>\n",
              "      <button class=\"colab-df-convert\" onclick=\"convertToInteractive('df-f3b29d46-2a64-43a7-862e-4ff99c12039d')\"\n",
              "              title=\"Convert this dataframe to an interactive table.\"\n",
              "              style=\"display:none;\">\n",
              "        \n",
              "  <svg xmlns=\"http://www.w3.org/2000/svg\" height=\"24px\"viewBox=\"0 0 24 24\"\n",
              "       width=\"24px\">\n",
              "    <path d=\"M0 0h24v24H0V0z\" fill=\"none\"/>\n",
              "    <path d=\"M18.56 5.44l.94 2.06.94-2.06 2.06-.94-2.06-.94-.94-2.06-.94 2.06-2.06.94zm-11 1L8.5 8.5l.94-2.06 2.06-.94-2.06-.94L8.5 2.5l-.94 2.06-2.06.94zm10 10l.94 2.06.94-2.06 2.06-.94-2.06-.94-.94-2.06-.94 2.06-2.06.94z\"/><path d=\"M17.41 7.96l-1.37-1.37c-.4-.4-.92-.59-1.43-.59-.52 0-1.04.2-1.43.59L10.3 9.45l-7.72 7.72c-.78.78-.78 2.05 0 2.83L4 21.41c.39.39.9.59 1.41.59.51 0 1.02-.2 1.41-.59l7.78-7.78 2.81-2.81c.8-.78.8-2.07 0-2.86zM5.41 20L4 18.59l7.72-7.72 1.47 1.35L5.41 20z\"/>\n",
              "  </svg>\n",
              "      </button>\n",
              "      \n",
              "  <style>\n",
              "    .colab-df-container {\n",
              "      display:flex;\n",
              "      flex-wrap:wrap;\n",
              "      gap: 12px;\n",
              "    }\n",
              "\n",
              "    .colab-df-convert {\n",
              "      background-color: #E8F0FE;\n",
              "      border: none;\n",
              "      border-radius: 50%;\n",
              "      cursor: pointer;\n",
              "      display: none;\n",
              "      fill: #1967D2;\n",
              "      height: 32px;\n",
              "      padding: 0 0 0 0;\n",
              "      width: 32px;\n",
              "    }\n",
              "\n",
              "    .colab-df-convert:hover {\n",
              "      background-color: #E2EBFA;\n",
              "      box-shadow: 0px 1px 2px rgba(60, 64, 67, 0.3), 0px 1px 3px 1px rgba(60, 64, 67, 0.15);\n",
              "      fill: #174EA6;\n",
              "    }\n",
              "\n",
              "    [theme=dark] .colab-df-convert {\n",
              "      background-color: #3B4455;\n",
              "      fill: #D2E3FC;\n",
              "    }\n",
              "\n",
              "    [theme=dark] .colab-df-convert:hover {\n",
              "      background-color: #434B5C;\n",
              "      box-shadow: 0px 1px 3px 1px rgba(0, 0, 0, 0.15);\n",
              "      filter: drop-shadow(0px 1px 2px rgba(0, 0, 0, 0.3));\n",
              "      fill: #FFFFFF;\n",
              "    }\n",
              "  </style>\n",
              "\n",
              "      <script>\n",
              "        const buttonEl =\n",
              "          document.querySelector('#df-f3b29d46-2a64-43a7-862e-4ff99c12039d button.colab-df-convert');\n",
              "        buttonEl.style.display =\n",
              "          google.colab.kernel.accessAllowed ? 'block' : 'none';\n",
              "\n",
              "        async function convertToInteractive(key) {\n",
              "          const element = document.querySelector('#df-f3b29d46-2a64-43a7-862e-4ff99c12039d');\n",
              "          const dataTable =\n",
              "            await google.colab.kernel.invokeFunction('convertToInteractive',\n",
              "                                                     [key], {});\n",
              "          if (!dataTable) return;\n",
              "\n",
              "          const docLinkHtml = 'Like what you see? Visit the ' +\n",
              "            '<a target=\"_blank\" href=https://colab.research.google.com/notebooks/data_table.ipynb>data table notebook</a>'\n",
              "            + ' to learn more about interactive tables.';\n",
              "          element.innerHTML = '';\n",
              "          dataTable['output_type'] = 'display_data';\n",
              "          await google.colab.output.renderOutput(dataTable, element);\n",
              "          const docLink = document.createElement('div');\n",
              "          docLink.innerHTML = docLinkHtml;\n",
              "          element.appendChild(docLink);\n",
              "        }\n",
              "      </script>\n",
              "    </div>\n",
              "  </div>\n",
              "  "
            ]
          },
          "metadata": {},
          "execution_count": 4
        }
      ]
    },
    {
      "cell_type": "markdown",
      "source": [
        "REVERSE GEOCODING"
      ],
      "metadata": {
        "id": "QH3a3NOE4X7N"
      }
    },
    {
      "cell_type": "code",
      "source": [
        "locator = Nominatim(user_agent=\"myGeocoder\")"
      ],
      "metadata": {
        "id": "7279FDzz1TUJ"
      },
      "execution_count": 11,
      "outputs": []
    },
    {
      "cell_type": "code",
      "source": [
        "# Input: lat and long coordinates\n",
        "# Output: dictionary containing 'address' -> 'postcode' and other address fields\n",
        "def reverse_geo(x, y):\n",
        "  try:\n",
        "    return locator.reverse((x,y)).raw\n",
        "  except ValueError:\n",
        "    print(x, y)"
      ],
      "metadata": {
        "id": "1R3lvlLl0sZ2"
      },
      "execution_count": 20,
      "outputs": []
    },
    {
      "cell_type": "code",
      "source": [
        "# Input: geo dictionary\n",
        "# Output: zipcode\n",
        "def get_zipcode(geodict):\n",
        "  try:\n",
        "    return geodict['address']['postcode']\n",
        "  except KeyError:\n",
        "    return np.nan"
      ],
      "metadata": {
        "id": "hXQesMj4L6Oi"
      },
      "execution_count": 41,
      "outputs": []
    },
    {
      "cell_type": "code",
      "source": [
        "#x, y = 40.7128, -74.0060\n",
        "#reverse_geo(x, y)"
      ],
      "metadata": {
        "colab": {
          "base_uri": "https://localhost:8080/"
        },
        "id": "QTRokxI1wt3o",
        "outputId": "cbb5f32f-682f-487f-b8d3-16bc5567a6b0"
      },
      "execution_count": 13,
      "outputs": [
        {
          "output_type": "execute_result",
          "data": {
            "text/plain": [
              "{'place_id': 226179173,\n",
              " 'licence': 'Data © OpenStreetMap contributors, ODbL 1.0. https://osm.org/copyright',\n",
              " 'osm_type': 'way',\n",
              " 'osm_id': 575213527,\n",
              " 'lat': '40.71273945',\n",
              " 'lon': '-74.00593904130275',\n",
              " 'display_name': 'New York City Hall, 260, Broadway, Lower Manhattan, Manhattan Community Board 1, Manhattan, New York County, City of New York, New York, 10000, United States',\n",
              " 'address': {'amenity': 'New York City Hall',\n",
              "  'house_number': '260',\n",
              "  'road': 'Broadway',\n",
              "  'quarter': 'Lower Manhattan',\n",
              "  'neighbourhood': 'Manhattan Community Board 1',\n",
              "  'suburb': 'Manhattan',\n",
              "  'county': 'New York County',\n",
              "  'city': 'City of New York',\n",
              "  'state': 'New York',\n",
              "  'ISO3166-2-lvl4': 'US-NY',\n",
              "  'postcode': '10000',\n",
              "  'country': 'United States',\n",
              "  'country_code': 'us'},\n",
              " 'boundingbox': ['40.712445', '40.7130254', '-74.0064455', '-74.0055687']}"
            ]
          },
          "metadata": {},
          "execution_count": 13
        }
      ]
    },
    {
      "cell_type": "code",
      "source": [
        "orig_data['zipcode'] = orig_data.apply(lambda row: get_zipcode(reverse_geo(row['y'], row['x'])), axis=1)"
      ],
      "metadata": {
        "id": "f3YKZAzEGWVy"
      },
      "execution_count": 43,
      "outputs": []
    },
    {
      "cell_type": "code",
      "source": [
        "orig_data.to_csv('/content/gdrive/My Drive/Colab Notebooks/IC23/Data_Washington_Fatal_Crash_Survey_with_zip.csv')"
      ],
      "metadata": {
        "id": "jM-ZKEHf01qu"
      },
      "execution_count": 51,
      "outputs": []
    }
  ]
}