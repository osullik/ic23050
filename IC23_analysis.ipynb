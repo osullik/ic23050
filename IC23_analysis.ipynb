{
  "nbformat": 4,
  "nbformat_minor": 0,
  "metadata": {
    "colab": {
      "provenance": []
    },
    "kernelspec": {
      "name": "python3",
      "display_name": "Python 3"
    },
    "language_info": {
      "name": "python"
    }
  },
  "cells": [
    {
      "cell_type": "markdown",
      "source": [
        "IMPORTS"
      ],
      "metadata": {
        "id": "tbzU6k4o4-wF"
      }
    },
    {
      "cell_type": "code",
      "execution_count": 358,
      "metadata": {
        "id": "7rmYfmfWwlj_"
      },
      "outputs": [],
      "source": [
        "from google.colab import drive\n",
        "from geopy.geocoders import Nominatim\n",
        "import pandas as pd\n",
        "import numpy as np\n",
        "import math"
      ]
    },
    {
      "cell_type": "markdown",
      "source": [
        "LOADING DATA"
      ],
      "metadata": {
        "id": "VpulzUzQ4eMY"
      }
    },
    {
      "cell_type": "code",
      "source": [
        "drive.mount('/content/gdrive')\n",
        "%cd gdrive/My Drive/Colab Notebooks/IC23/"
      ],
      "metadata": {
        "id": "ifYU5iOM5WIF",
        "colab": {
          "base_uri": "https://localhost:8080/"
        },
        "outputId": "cf913fef-ce19-4ac2-fcae-64def1e8a872"
      },
      "execution_count": 317,
      "outputs": [
        {
          "output_type": "stream",
          "name": "stdout",
          "text": [
            "Drive already mounted at /content/gdrive; to attempt to forcibly remount, call drive.mount(\"/content/gdrive\", force_remount=True).\n",
            "[Errno 2] No such file or directory: 'gdrive/My Drive/Colab Notebooks/IC23/'\n",
            "/content/gdrive/My Drive/Colab Notebooks/IC23\n"
          ]
        }
      ]
    },
    {
      "cell_type": "code",
      "source": [
        "#! git clone https://github.com/osullik/ic23050.git\n",
        "#! git pull"
      ],
      "metadata": {
        "id": "qy7UI2IM4hy5"
      },
      "execution_count": 52,
      "outputs": []
    },
    {
      "cell_type": "code",
      "source": [
        "orig_data = pd.read_csv(\"https://raw.githubusercontent.com/osullik/ic23050/main/L4%20Washington%20Fatal%20Crash%20Files%20-%20Washington%20Traffic%20Safety%20Commission/Data_Washington%20Fatal%20Crash%20Survey.csv\")"
      ],
      "metadata": {
        "colab": {
          "base_uri": "https://localhost:8080/"
        },
        "id": "DSZz5QKFFhMq",
        "outputId": "9fca2708-06a5-45f5-885f-0370da7a0815"
      },
      "execution_count": 318,
      "outputs": [
        {
          "output_type": "stream",
          "name": "stderr",
          "text": [
            "/usr/local/lib/python3.8/dist-packages/IPython/core/interactiveshell.py:3326: DtypeWarning: Columns (21,22,23,301,303) have mixed types.Specify dtype option on import or set low_memory=False.\n",
            "  exec(code_obj, self.user_global_ns, self.user_ns)\n"
          ]
        }
      ]
    },
    {
      "cell_type": "code",
      "source": [
        "orig_data.head()"
      ],
      "metadata": {
        "colab": {
          "base_uri": "https://localhost:8080/",
          "height": 235
        },
        "id": "VEWl3w2xFvpl",
        "outputId": "2adf8599-6add-40aa-cc7d-79a1d8970af8"
      },
      "execution_count": 319,
      "outputs": [
        {
          "output_type": "execute_result",
          "data": {
            "text/plain": [
              "   year  case      par  repjur    crash_dt crash_tm  accday  accmon  holiday  \\\n",
              "0  2017     1  E628946     2.0  01/01/2017     2:12       1       1      1.0   \n",
              "1  2017     2  E627989    26.0  01/02/2017    17:14       2       1      1.0   \n",
              "2  2017     4  3747633   263.0  01/01/2017    18:47       1       1      1.0   \n",
              "3  2017     5  E628691     4.0  01/01/2017     3:50       1       1      1.0   \n",
              "4  2017     6  3746306   263.0  01/05/2017     9:53       5       1      0.0   \n",
              "\n",
              "   county  ... nmdistract6  lab  isedtcase  crf1  crf2  crf3  CoRoadName  \\\n",
              "0      61  ...         NaN  NaN        NaN   NaN   NaN   NaN         NaN   \n",
              "1      35  ...         NaN  NaN        NaN   NaN   NaN   NaN         NaN   \n",
              "2      33  ...         NaN  NaN        NaN   NaN   NaN   NaN         NaN   \n",
              "3      63  ...         NaN  NaN        NaN   NaN   NaN   NaN         NaN   \n",
              "4      33  ...         NaN  NaN        NaN   NaN   NaN   NaN         NaN   \n",
              "\n",
              "   CoMP  IntCoRoadName  IntCoMP  \n",
              "0   NaN            NaN      NaN  \n",
              "1   NaN            NaN      NaN  \n",
              "2   NaN            NaN      NaN  \n",
              "3   NaN            NaN      NaN  \n",
              "4   NaN            NaN      NaN  \n",
              "\n",
              "[5 rows x 305 columns]"
            ],
            "text/html": [
              "\n",
              "  <div id=\"df-f8a94886-f6b1-4d9f-b74c-a9c720d303c6\">\n",
              "    <div class=\"colab-df-container\">\n",
              "      <div>\n",
              "<style scoped>\n",
              "    .dataframe tbody tr th:only-of-type {\n",
              "        vertical-align: middle;\n",
              "    }\n",
              "\n",
              "    .dataframe tbody tr th {\n",
              "        vertical-align: top;\n",
              "    }\n",
              "\n",
              "    .dataframe thead th {\n",
              "        text-align: right;\n",
              "    }\n",
              "</style>\n",
              "<table border=\"1\" class=\"dataframe\">\n",
              "  <thead>\n",
              "    <tr style=\"text-align: right;\">\n",
              "      <th></th>\n",
              "      <th>year</th>\n",
              "      <th>case</th>\n",
              "      <th>par</th>\n",
              "      <th>repjur</th>\n",
              "      <th>crash_dt</th>\n",
              "      <th>crash_tm</th>\n",
              "      <th>accday</th>\n",
              "      <th>accmon</th>\n",
              "      <th>holiday</th>\n",
              "      <th>county</th>\n",
              "      <th>...</th>\n",
              "      <th>nmdistract6</th>\n",
              "      <th>lab</th>\n",
              "      <th>isedtcase</th>\n",
              "      <th>crf1</th>\n",
              "      <th>crf2</th>\n",
              "      <th>crf3</th>\n",
              "      <th>CoRoadName</th>\n",
              "      <th>CoMP</th>\n",
              "      <th>IntCoRoadName</th>\n",
              "      <th>IntCoMP</th>\n",
              "    </tr>\n",
              "  </thead>\n",
              "  <tbody>\n",
              "    <tr>\n",
              "      <th>0</th>\n",
              "      <td>2017</td>\n",
              "      <td>1</td>\n",
              "      <td>E628946</td>\n",
              "      <td>2.0</td>\n",
              "      <td>01/01/2017</td>\n",
              "      <td>2:12</td>\n",
              "      <td>1</td>\n",
              "      <td>1</td>\n",
              "      <td>1.0</td>\n",
              "      <td>61</td>\n",
              "      <td>...</td>\n",
              "      <td>NaN</td>\n",
              "      <td>NaN</td>\n",
              "      <td>NaN</td>\n",
              "      <td>NaN</td>\n",
              "      <td>NaN</td>\n",
              "      <td>NaN</td>\n",
              "      <td>NaN</td>\n",
              "      <td>NaN</td>\n",
              "      <td>NaN</td>\n",
              "      <td>NaN</td>\n",
              "    </tr>\n",
              "    <tr>\n",
              "      <th>1</th>\n",
              "      <td>2017</td>\n",
              "      <td>2</td>\n",
              "      <td>E627989</td>\n",
              "      <td>26.0</td>\n",
              "      <td>01/02/2017</td>\n",
              "      <td>17:14</td>\n",
              "      <td>2</td>\n",
              "      <td>1</td>\n",
              "      <td>1.0</td>\n",
              "      <td>35</td>\n",
              "      <td>...</td>\n",
              "      <td>NaN</td>\n",
              "      <td>NaN</td>\n",
              "      <td>NaN</td>\n",
              "      <td>NaN</td>\n",
              "      <td>NaN</td>\n",
              "      <td>NaN</td>\n",
              "      <td>NaN</td>\n",
              "      <td>NaN</td>\n",
              "      <td>NaN</td>\n",
              "      <td>NaN</td>\n",
              "    </tr>\n",
              "    <tr>\n",
              "      <th>2</th>\n",
              "      <td>2017</td>\n",
              "      <td>4</td>\n",
              "      <td>3747633</td>\n",
              "      <td>263.0</td>\n",
              "      <td>01/01/2017</td>\n",
              "      <td>18:47</td>\n",
              "      <td>1</td>\n",
              "      <td>1</td>\n",
              "      <td>1.0</td>\n",
              "      <td>33</td>\n",
              "      <td>...</td>\n",
              "      <td>NaN</td>\n",
              "      <td>NaN</td>\n",
              "      <td>NaN</td>\n",
              "      <td>NaN</td>\n",
              "      <td>NaN</td>\n",
              "      <td>NaN</td>\n",
              "      <td>NaN</td>\n",
              "      <td>NaN</td>\n",
              "      <td>NaN</td>\n",
              "      <td>NaN</td>\n",
              "    </tr>\n",
              "    <tr>\n",
              "      <th>3</th>\n",
              "      <td>2017</td>\n",
              "      <td>5</td>\n",
              "      <td>E628691</td>\n",
              "      <td>4.0</td>\n",
              "      <td>01/01/2017</td>\n",
              "      <td>3:50</td>\n",
              "      <td>1</td>\n",
              "      <td>1</td>\n",
              "      <td>1.0</td>\n",
              "      <td>63</td>\n",
              "      <td>...</td>\n",
              "      <td>NaN</td>\n",
              "      <td>NaN</td>\n",
              "      <td>NaN</td>\n",
              "      <td>NaN</td>\n",
              "      <td>NaN</td>\n",
              "      <td>NaN</td>\n",
              "      <td>NaN</td>\n",
              "      <td>NaN</td>\n",
              "      <td>NaN</td>\n",
              "      <td>NaN</td>\n",
              "    </tr>\n",
              "    <tr>\n",
              "      <th>4</th>\n",
              "      <td>2017</td>\n",
              "      <td>6</td>\n",
              "      <td>3746306</td>\n",
              "      <td>263.0</td>\n",
              "      <td>01/05/2017</td>\n",
              "      <td>9:53</td>\n",
              "      <td>5</td>\n",
              "      <td>1</td>\n",
              "      <td>0.0</td>\n",
              "      <td>33</td>\n",
              "      <td>...</td>\n",
              "      <td>NaN</td>\n",
              "      <td>NaN</td>\n",
              "      <td>NaN</td>\n",
              "      <td>NaN</td>\n",
              "      <td>NaN</td>\n",
              "      <td>NaN</td>\n",
              "      <td>NaN</td>\n",
              "      <td>NaN</td>\n",
              "      <td>NaN</td>\n",
              "      <td>NaN</td>\n",
              "    </tr>\n",
              "  </tbody>\n",
              "</table>\n",
              "<p>5 rows × 305 columns</p>\n",
              "</div>\n",
              "      <button class=\"colab-df-convert\" onclick=\"convertToInteractive('df-f8a94886-f6b1-4d9f-b74c-a9c720d303c6')\"\n",
              "              title=\"Convert this dataframe to an interactive table.\"\n",
              "              style=\"display:none;\">\n",
              "        \n",
              "  <svg xmlns=\"http://www.w3.org/2000/svg\" height=\"24px\"viewBox=\"0 0 24 24\"\n",
              "       width=\"24px\">\n",
              "    <path d=\"M0 0h24v24H0V0z\" fill=\"none\"/>\n",
              "    <path d=\"M18.56 5.44l.94 2.06.94-2.06 2.06-.94-2.06-.94-.94-2.06-.94 2.06-2.06.94zm-11 1L8.5 8.5l.94-2.06 2.06-.94-2.06-.94L8.5 2.5l-.94 2.06-2.06.94zm10 10l.94 2.06.94-2.06 2.06-.94-2.06-.94-.94-2.06-.94 2.06-2.06.94z\"/><path d=\"M17.41 7.96l-1.37-1.37c-.4-.4-.92-.59-1.43-.59-.52 0-1.04.2-1.43.59L10.3 9.45l-7.72 7.72c-.78.78-.78 2.05 0 2.83L4 21.41c.39.39.9.59 1.41.59.51 0 1.02-.2 1.41-.59l7.78-7.78 2.81-2.81c.8-.78.8-2.07 0-2.86zM5.41 20L4 18.59l7.72-7.72 1.47 1.35L5.41 20z\"/>\n",
              "  </svg>\n",
              "      </button>\n",
              "      \n",
              "  <style>\n",
              "    .colab-df-container {\n",
              "      display:flex;\n",
              "      flex-wrap:wrap;\n",
              "      gap: 12px;\n",
              "    }\n",
              "\n",
              "    .colab-df-convert {\n",
              "      background-color: #E8F0FE;\n",
              "      border: none;\n",
              "      border-radius: 50%;\n",
              "      cursor: pointer;\n",
              "      display: none;\n",
              "      fill: #1967D2;\n",
              "      height: 32px;\n",
              "      padding: 0 0 0 0;\n",
              "      width: 32px;\n",
              "    }\n",
              "\n",
              "    .colab-df-convert:hover {\n",
              "      background-color: #E2EBFA;\n",
              "      box-shadow: 0px 1px 2px rgba(60, 64, 67, 0.3), 0px 1px 3px 1px rgba(60, 64, 67, 0.15);\n",
              "      fill: #174EA6;\n",
              "    }\n",
              "\n",
              "    [theme=dark] .colab-df-convert {\n",
              "      background-color: #3B4455;\n",
              "      fill: #D2E3FC;\n",
              "    }\n",
              "\n",
              "    [theme=dark] .colab-df-convert:hover {\n",
              "      background-color: #434B5C;\n",
              "      box-shadow: 0px 1px 3px 1px rgba(0, 0, 0, 0.15);\n",
              "      filter: drop-shadow(0px 1px 2px rgba(0, 0, 0, 0.3));\n",
              "      fill: #FFFFFF;\n",
              "    }\n",
              "  </style>\n",
              "\n",
              "      <script>\n",
              "        const buttonEl =\n",
              "          document.querySelector('#df-f8a94886-f6b1-4d9f-b74c-a9c720d303c6 button.colab-df-convert');\n",
              "        buttonEl.style.display =\n",
              "          google.colab.kernel.accessAllowed ? 'block' : 'none';\n",
              "\n",
              "        async function convertToInteractive(key) {\n",
              "          const element = document.querySelector('#df-f8a94886-f6b1-4d9f-b74c-a9c720d303c6');\n",
              "          const dataTable =\n",
              "            await google.colab.kernel.invokeFunction('convertToInteractive',\n",
              "                                                     [key], {});\n",
              "          if (!dataTable) return;\n",
              "\n",
              "          const docLinkHtml = 'Like what you see? Visit the ' +\n",
              "            '<a target=\"_blank\" href=https://colab.research.google.com/notebooks/data_table.ipynb>data table notebook</a>'\n",
              "            + ' to learn more about interactive tables.';\n",
              "          element.innerHTML = '';\n",
              "          dataTable['output_type'] = 'display_data';\n",
              "          await google.colab.output.renderOutput(dataTable, element);\n",
              "          const docLink = document.createElement('div');\n",
              "          docLink.innerHTML = docLinkHtml;\n",
              "          element.appendChild(docLink);\n",
              "        }\n",
              "      </script>\n",
              "    </div>\n",
              "  </div>\n",
              "  "
            ]
          },
          "metadata": {},
          "execution_count": 319
        }
      ]
    },
    {
      "cell_type": "markdown",
      "source": [
        "REVERSE GEOCODING"
      ],
      "metadata": {
        "id": "QH3a3NOE4X7N"
      }
    },
    {
      "cell_type": "code",
      "source": [
        "locator = Nominatim(user_agent=\"myGeocoder\")"
      ],
      "metadata": {
        "id": "7279FDzz1TUJ"
      },
      "execution_count": 11,
      "outputs": []
    },
    {
      "cell_type": "code",
      "source": [
        "# Input: lat and long coordinates\n",
        "# Output: dictionary containing 'address' -> 'postcode' and other address fields\n",
        "def reverse_geo(x, y):\n",
        "  try:\n",
        "    return locator.reverse((x,y)).raw\n",
        "  except ValueError:\n",
        "    print(x, y)"
      ],
      "metadata": {
        "id": "1R3lvlLl0sZ2"
      },
      "execution_count": 20,
      "outputs": []
    },
    {
      "cell_type": "code",
      "source": [
        "# Input: geo dictionary\n",
        "# Output: zipcode\n",
        "def get_zipcode(geodict):\n",
        "  try:\n",
        "    return geodict['address']['postcode']\n",
        "  except KeyError:\n",
        "    return np.nan"
      ],
      "metadata": {
        "id": "hXQesMj4L6Oi"
      },
      "execution_count": 41,
      "outputs": []
    },
    {
      "cell_type": "code",
      "source": [
        "#x, y = 40.7128, -74.0060\n",
        "#reverse_geo(x, y)"
      ],
      "metadata": {
        "colab": {
          "base_uri": "https://localhost:8080/"
        },
        "id": "QTRokxI1wt3o",
        "outputId": "cbb5f32f-682f-487f-b8d3-16bc5567a6b0"
      },
      "execution_count": 13,
      "outputs": [
        {
          "output_type": "execute_result",
          "data": {
            "text/plain": [
              "{'place_id': 226179173,\n",
              " 'licence': 'Data © OpenStreetMap contributors, ODbL 1.0. https://osm.org/copyright',\n",
              " 'osm_type': 'way',\n",
              " 'osm_id': 575213527,\n",
              " 'lat': '40.71273945',\n",
              " 'lon': '-74.00593904130275',\n",
              " 'display_name': 'New York City Hall, 260, Broadway, Lower Manhattan, Manhattan Community Board 1, Manhattan, New York County, City of New York, New York, 10000, United States',\n",
              " 'address': {'amenity': 'New York City Hall',\n",
              "  'house_number': '260',\n",
              "  'road': 'Broadway',\n",
              "  'quarter': 'Lower Manhattan',\n",
              "  'neighbourhood': 'Manhattan Community Board 1',\n",
              "  'suburb': 'Manhattan',\n",
              "  'county': 'New York County',\n",
              "  'city': 'City of New York',\n",
              "  'state': 'New York',\n",
              "  'ISO3166-2-lvl4': 'US-NY',\n",
              "  'postcode': '10000',\n",
              "  'country': 'United States',\n",
              "  'country_code': 'us'},\n",
              " 'boundingbox': ['40.712445', '40.7130254', '-74.0064455', '-74.0055687']}"
            ]
          },
          "metadata": {},
          "execution_count": 13
        }
      ]
    },
    {
      "cell_type": "code",
      "source": [
        "orig_data['zipcode'] = orig_data.apply(lambda row: get_zipcode(reverse_geo(row['y'], row['x'])), axis=1)"
      ],
      "metadata": {
        "id": "f3YKZAzEGWVy"
      },
      "execution_count": 43,
      "outputs": []
    },
    {
      "cell_type": "code",
      "source": [
        "orig_data.to_csv('/content/gdrive/My Drive/Colab Notebooks/IC23/Data_Washington_Fatal_Crash_Survey_with_zip.csv')"
      ],
      "metadata": {
        "id": "jM-ZKEHf01qu"
      },
      "execution_count": 51,
      "outputs": []
    },
    {
      "cell_type": "markdown",
      "source": [
        "AUGMENTING WITH OSM DATA"
      ],
      "metadata": {
        "id": "YNp5V-KDXDDa"
      }
    },
    {
      "cell_type": "code",
      "source": [
        "# !pip install pyrosm"
      ],
      "metadata": {
        "id": "Us8qRBiOYIA3"
      },
      "execution_count": 1,
      "outputs": []
    },
    {
      "cell_type": "code",
      "source": [
        "# from pyrosm import OSM\n",
        "# from pyrosm import get_data\n",
        "# from pyrosm.data import sources"
      ],
      "metadata": {
        "id": "MyfOj17EYDdS"
      },
      "execution_count": 2,
      "outputs": []
    },
    {
      "cell_type": "code",
      "source": [
        "# data_with_zip = pd.read_csv('https://raw.githubusercontent.com/osullik/ic23050/main/L4%20Washington%20Fatal%20Crash%20Files%20-%20Washington%20Traffic%20Safety%20Commission/Data_Washington_Fatal_Crash_Survey_with_zip.csv')"
      ],
      "metadata": {
        "id": "2OZ8MHwHXG_u"
      },
      "execution_count": 3,
      "outputs": []
    },
    {
      "cell_type": "code",
      "source": [
        "# # Grab OSM data from pyrosm\n",
        "# fp = get_data(\"washington\") # AKA sources.north_america.usa.washington also at '/content/gdrive/My Drive/Colab Notebooks/IC23/washington-latest.osm.bz2'\n",
        "\n",
        "# # Initialize the OSM parser object\n",
        "# osm = OSM(fp)"
      ],
      "metadata": {
        "id": "6iJkQm6BXXGQ"
      },
      "execution_count": 4,
      "outputs": []
    },
    {
      "cell_type": "code",
      "source": [
        "# # Read all drivable roads\n",
        "# drive_net = osm.get_network(network_type=\"driving\")\n",
        "# drive_net.plot()"
      ],
      "metadata": {
        "id": "cdvFls1ub6Ba"
      },
      "execution_count": null,
      "outputs": []
    },
    {
      "cell_type": "code",
      "source": [
        "# drive_net.head(2)"
      ],
      "metadata": {
        "id": "DLvzmewYa0nP"
      },
      "execution_count": null,
      "outputs": []
    },
    {
      "cell_type": "markdown",
      "source": [
        "AUGMENT ZIPCODES WITH DEMOGRAPHICS"
      ],
      "metadata": {
        "id": "Knr6YlHChgyO"
      }
    },
    {
      "cell_type": "code",
      "source": [
        "# !pip install uszipcode"
      ],
      "metadata": {
        "id": "wmIepVJNhkcr"
      },
      "execution_count": 10,
      "outputs": []
    },
    {
      "cell_type": "code",
      "source": [
        "from uszipcode import SearchEngine  # data.census.gov"
      ],
      "metadata": {
        "id": "EQYwMLh_hphD"
      },
      "execution_count": 321,
      "outputs": []
    },
    {
      "cell_type": "code",
      "source": [
        "# Augment with extra demographic fields based on zipcode\n",
        "# skip any that don;t actually show up in the SearchEngine results\n",
        "# skip county because it's already in the crash data\n",
        "fields_to_add = ('state', 'population', 'population_density', 'land_area_in_sqmi', 'water_area_in_sqmi', 'housing_units', 'occupied_housing_units', 'median_home_value', 'median_household_income')\n",
        "fields_to_add_list = list(fields_to_add)\n",
        "\n",
        "def augment_zip(zipcode):\n",
        "  try:\n",
        "    s = SearchEngine().by_zipcode(zipcode)\n",
        "    return [s.state, s.population, s.population_density, s.land_area_in_sqmi, s.water_area_in_sqmi, s.housing_units, s.occupied_housing_units, s.median_home_value, s.median_household_income]  # fields listed here: https://uszipcode.readthedocs.io/\n",
        "  except Exception:\n",
        "    return [np.nan for _ in range(len(fields_to_add))]  "
      ],
      "metadata": {
        "id": "5G82t0JmjRCI"
      },
      "execution_count": 359,
      "outputs": []
    },
    {
      "cell_type": "code",
      "source": [
        "# Read in augmented data with zipcodes\n",
        "orig_data_with_zip_reference = pd.read_csv(\"https://raw.githubusercontent.com/osullik/ic23050/main/L4%20Washington%20Fatal%20Crash%20Files%20-%20Washington%20Traffic%20Safety%20Commission/Data_Washington_Fatal_Crash_Survey_with_zip.csv\")\n",
        "orig_data_with_zip = orig_data_with_zip_reference.copy()\n",
        "\n",
        "# Drop all rows with mission driver zipcode or zipcode\n",
        "orig_data_with_zip = orig_data_with_zip_reference[orig_data_with_zip['zipcode'].notna()] \n",
        "orig_data_with_zip = orig_data_with_zip[orig_data_with_zip['dzip'].notna()]  \n",
        "orig_data_with_zip = orig_data_with_zip.astype({'dzip':'int', 'zipcode':'int'})"
      ],
      "metadata": {
        "id": "quRP-XfGyuSs"
      },
      "execution_count": 360,
      "outputs": []
    },
    {
      "cell_type": "code",
      "source": [
        "# prevent SQL Alchemy warnings from displaying with each SearchEngine call\n",
        "%%capture --no-display\n",
        "\n",
        "orig_data_with_zip[fields_to_add] = orig_data_with_zip.apply(lambda row: augment_zip(row['zipcode']), axis=1)\n",
        "orig_data_with_zip[fields_to_add_list] = pd.DataFrame(orig_data_with_zip[fields_to_add].tolist(), index=orig_data_with_zip.index)\n",
        "orig_data_with_zip = orig_data_with_zip.drop(fields_to_add, axis=1)"
      ],
      "metadata": {
        "id": "h6nQqlqwy_-i"
      },
      "execution_count": 361,
      "outputs": []
    },
    {
      "cell_type": "markdown",
      "source": [
        "DATA CLEANING"
      ],
      "metadata": {
        "id": "9UAS1FiRL0fb"
      }
    },
    {
      "cell_type": "code",
      "source": [
        "# Drop any columns or rows with more than 50% Nans\n",
        "orig_data_with_zip.dropna(thresh=len(orig_data_with_zip.index)*0.5, axis=1, inplace=True)\n",
        "orig_data_with_zip.dropna(thresh=len(orig_data_with_zip.columns)*0.5, axis=0, inplace=True)\n",
        "\n",
        "# Drop any rows with invalid dzip or zipcode (not 5 digits) -- not needed since laeding zeros are missing on otherwise valid zipcodes\n",
        "# tmp = orig_data_with_zip.astype({'zipcode':'str', 'dzip':'str'})\n",
        "# mask = ((tmp['zipcode'].str.len() == 5) & (tmp['dzip'].str.len() == 5))\n",
        "# orig_data_with_zip = orig_data_with_zip.loc[mask].drop('Unnamed: 0', axis=1)\n",
        "\n",
        "# Add leading zeros to zipcodes less than 5 digits\n",
        "# zipcodes that are all 0 are for Cananda\n",
        "# TODO\n",
        "\n",
        "# Other data cleaning...\n",
        "# TODO\n",
        "\n",
        "orig_data_with_zip"
      ],
      "metadata": {
        "colab": {
          "base_uri": "https://localhost:8080/",
          "height": 505
        },
        "id": "tcNAhgAILxSK",
        "outputId": "f7aaf367-8bea-47b1-fd84-ce3ab35bfcdd"
      },
      "execution_count": 362,
      "outputs": [
        {
          "output_type": "execute_result",
          "data": {
            "text/plain": [
              "      Unnamed: 0  year  case      par  repjur    crash_dt crash_tm  accday  \\\n",
              "0              0  2017     1  E628946     2.0  01/01/2017     2:12       1   \n",
              "1              1  2017     2  E627989    26.0  01/02/2017    17:14       2   \n",
              "2              2  2017     4  3747633   263.0  01/01/2017    18:47       1   \n",
              "3              3  2017     5  E628691     4.0  01/01/2017     3:50       1   \n",
              "4              4  2017     6  3746306   263.0  01/05/2017     9:53       5   \n",
              "...          ...   ...   ...      ...     ...         ...      ...     ...   \n",
              "4127        4127  2021   636  Incid08   334.0  08/08/2021     9:38       8   \n",
              "4128        4128  2021   638  Incid09   334.0  09/05/2021     1:36       5   \n",
              "4129        4129  2021   639  EB48605   263.0  04/21/2021    17:32      21   \n",
              "4130        4130  2021   639  EB48605   263.0  04/21/2021    17:32      21   \n",
              "4131        4131  2021   640  Inciden    42.0  10/15/2021    14:55      15   \n",
              "\n",
              "      accmon  county  ... zipcode  state  population  population_density  \\\n",
              "0          1      61  ...   98201     WA     29582.0              3956.0   \n",
              "1          1      35  ...   98359     WA      4887.0               349.0   \n",
              "2          1      33  ...   98103     WA     45911.0              9905.0   \n",
              "3          1      63  ...   99219     WA         NaN                 NaN   \n",
              "4          1      33  ...   98174     WA         NaN                 NaN   \n",
              "...      ...     ...  ...     ...    ...         ...                 ...   \n",
              "4127       8      47  ...   99155     WA      1350.0                 4.0   \n",
              "4128       9      19  ...    3971    NaN         NaN                 NaN   \n",
              "4129       4      33  ...   98144     WA     26881.0              7895.0   \n",
              "4130       4      33  ...   98144     WA     26881.0              7895.0   \n",
              "4131      10      67  ...   98502     WA     30491.0               561.0   \n",
              "\n",
              "      land_area_in_sqmi  water_area_in_sqmi  housing_units  \\\n",
              "0                  7.48                2.68        13899.0   \n",
              "1                 14.02                1.25         1982.0   \n",
              "2                  4.64                0.66        24128.0   \n",
              "3                   NaN                 NaN            NaN   \n",
              "4                   NaN                 NaN            NaN   \n",
              "...                 ...                 ...            ...   \n",
              "4127             304.50                3.25          443.0   \n",
              "4128                NaN                 NaN            NaN   \n",
              "4129               3.40                1.75        12660.0   \n",
              "4130               3.40                1.75        12660.0   \n",
              "4131              54.37               16.75        13997.0   \n",
              "\n",
              "      occupied_housing_units  median_home_value  median_household_income  \n",
              "0                    12443.0           236800.0                  43229.0  \n",
              "1                     1821.0           275500.0                  71676.0  \n",
              "2                    22724.0           478200.0                  75763.0  \n",
              "3                        NaN                NaN                      NaN  \n",
              "4                        NaN                NaN                      NaN  \n",
              "...                      ...                ...                      ...  \n",
              "4127                   402.0            79100.0                  25435.0  \n",
              "4128                     NaN                NaN                      NaN  \n",
              "4129                 11511.0           391000.0                  55950.0  \n",
              "4130                 11511.0           391000.0                  55950.0  \n",
              "4131                 12637.0           304000.0                  60837.0  \n",
              "\n",
              "[3721 rows x 209 columns]"
            ],
            "text/html": [
              "\n",
              "  <div id=\"df-1ddcf0c7-cfb6-4b53-9093-037f88b9eb90\">\n",
              "    <div class=\"colab-df-container\">\n",
              "      <div>\n",
              "<style scoped>\n",
              "    .dataframe tbody tr th:only-of-type {\n",
              "        vertical-align: middle;\n",
              "    }\n",
              "\n",
              "    .dataframe tbody tr th {\n",
              "        vertical-align: top;\n",
              "    }\n",
              "\n",
              "    .dataframe thead th {\n",
              "        text-align: right;\n",
              "    }\n",
              "</style>\n",
              "<table border=\"1\" class=\"dataframe\">\n",
              "  <thead>\n",
              "    <tr style=\"text-align: right;\">\n",
              "      <th></th>\n",
              "      <th>Unnamed: 0</th>\n",
              "      <th>year</th>\n",
              "      <th>case</th>\n",
              "      <th>par</th>\n",
              "      <th>repjur</th>\n",
              "      <th>crash_dt</th>\n",
              "      <th>crash_tm</th>\n",
              "      <th>accday</th>\n",
              "      <th>accmon</th>\n",
              "      <th>county</th>\n",
              "      <th>...</th>\n",
              "      <th>zipcode</th>\n",
              "      <th>state</th>\n",
              "      <th>population</th>\n",
              "      <th>population_density</th>\n",
              "      <th>land_area_in_sqmi</th>\n",
              "      <th>water_area_in_sqmi</th>\n",
              "      <th>housing_units</th>\n",
              "      <th>occupied_housing_units</th>\n",
              "      <th>median_home_value</th>\n",
              "      <th>median_household_income</th>\n",
              "    </tr>\n",
              "  </thead>\n",
              "  <tbody>\n",
              "    <tr>\n",
              "      <th>0</th>\n",
              "      <td>0</td>\n",
              "      <td>2017</td>\n",
              "      <td>1</td>\n",
              "      <td>E628946</td>\n",
              "      <td>2.0</td>\n",
              "      <td>01/01/2017</td>\n",
              "      <td>2:12</td>\n",
              "      <td>1</td>\n",
              "      <td>1</td>\n",
              "      <td>61</td>\n",
              "      <td>...</td>\n",
              "      <td>98201</td>\n",
              "      <td>WA</td>\n",
              "      <td>29582.0</td>\n",
              "      <td>3956.0</td>\n",
              "      <td>7.48</td>\n",
              "      <td>2.68</td>\n",
              "      <td>13899.0</td>\n",
              "      <td>12443.0</td>\n",
              "      <td>236800.0</td>\n",
              "      <td>43229.0</td>\n",
              "    </tr>\n",
              "    <tr>\n",
              "      <th>1</th>\n",
              "      <td>1</td>\n",
              "      <td>2017</td>\n",
              "      <td>2</td>\n",
              "      <td>E627989</td>\n",
              "      <td>26.0</td>\n",
              "      <td>01/02/2017</td>\n",
              "      <td>17:14</td>\n",
              "      <td>2</td>\n",
              "      <td>1</td>\n",
              "      <td>35</td>\n",
              "      <td>...</td>\n",
              "      <td>98359</td>\n",
              "      <td>WA</td>\n",
              "      <td>4887.0</td>\n",
              "      <td>349.0</td>\n",
              "      <td>14.02</td>\n",
              "      <td>1.25</td>\n",
              "      <td>1982.0</td>\n",
              "      <td>1821.0</td>\n",
              "      <td>275500.0</td>\n",
              "      <td>71676.0</td>\n",
              "    </tr>\n",
              "    <tr>\n",
              "      <th>2</th>\n",
              "      <td>2</td>\n",
              "      <td>2017</td>\n",
              "      <td>4</td>\n",
              "      <td>3747633</td>\n",
              "      <td>263.0</td>\n",
              "      <td>01/01/2017</td>\n",
              "      <td>18:47</td>\n",
              "      <td>1</td>\n",
              "      <td>1</td>\n",
              "      <td>33</td>\n",
              "      <td>...</td>\n",
              "      <td>98103</td>\n",
              "      <td>WA</td>\n",
              "      <td>45911.0</td>\n",
              "      <td>9905.0</td>\n",
              "      <td>4.64</td>\n",
              "      <td>0.66</td>\n",
              "      <td>24128.0</td>\n",
              "      <td>22724.0</td>\n",
              "      <td>478200.0</td>\n",
              "      <td>75763.0</td>\n",
              "    </tr>\n",
              "    <tr>\n",
              "      <th>3</th>\n",
              "      <td>3</td>\n",
              "      <td>2017</td>\n",
              "      <td>5</td>\n",
              "      <td>E628691</td>\n",
              "      <td>4.0</td>\n",
              "      <td>01/01/2017</td>\n",
              "      <td>3:50</td>\n",
              "      <td>1</td>\n",
              "      <td>1</td>\n",
              "      <td>63</td>\n",
              "      <td>...</td>\n",
              "      <td>99219</td>\n",
              "      <td>WA</td>\n",
              "      <td>NaN</td>\n",
              "      <td>NaN</td>\n",
              "      <td>NaN</td>\n",
              "      <td>NaN</td>\n",
              "      <td>NaN</td>\n",
              "      <td>NaN</td>\n",
              "      <td>NaN</td>\n",
              "      <td>NaN</td>\n",
              "    </tr>\n",
              "    <tr>\n",
              "      <th>4</th>\n",
              "      <td>4</td>\n",
              "      <td>2017</td>\n",
              "      <td>6</td>\n",
              "      <td>3746306</td>\n",
              "      <td>263.0</td>\n",
              "      <td>01/05/2017</td>\n",
              "      <td>9:53</td>\n",
              "      <td>5</td>\n",
              "      <td>1</td>\n",
              "      <td>33</td>\n",
              "      <td>...</td>\n",
              "      <td>98174</td>\n",
              "      <td>WA</td>\n",
              "      <td>NaN</td>\n",
              "      <td>NaN</td>\n",
              "      <td>NaN</td>\n",
              "      <td>NaN</td>\n",
              "      <td>NaN</td>\n",
              "      <td>NaN</td>\n",
              "      <td>NaN</td>\n",
              "      <td>NaN</td>\n",
              "    </tr>\n",
              "    <tr>\n",
              "      <th>...</th>\n",
              "      <td>...</td>\n",
              "      <td>...</td>\n",
              "      <td>...</td>\n",
              "      <td>...</td>\n",
              "      <td>...</td>\n",
              "      <td>...</td>\n",
              "      <td>...</td>\n",
              "      <td>...</td>\n",
              "      <td>...</td>\n",
              "      <td>...</td>\n",
              "      <td>...</td>\n",
              "      <td>...</td>\n",
              "      <td>...</td>\n",
              "      <td>...</td>\n",
              "      <td>...</td>\n",
              "      <td>...</td>\n",
              "      <td>...</td>\n",
              "      <td>...</td>\n",
              "      <td>...</td>\n",
              "      <td>...</td>\n",
              "      <td>...</td>\n",
              "    </tr>\n",
              "    <tr>\n",
              "      <th>4127</th>\n",
              "      <td>4127</td>\n",
              "      <td>2021</td>\n",
              "      <td>636</td>\n",
              "      <td>Incid08</td>\n",
              "      <td>334.0</td>\n",
              "      <td>08/08/2021</td>\n",
              "      <td>9:38</td>\n",
              "      <td>8</td>\n",
              "      <td>8</td>\n",
              "      <td>47</td>\n",
              "      <td>...</td>\n",
              "      <td>99155</td>\n",
              "      <td>WA</td>\n",
              "      <td>1350.0</td>\n",
              "      <td>4.0</td>\n",
              "      <td>304.50</td>\n",
              "      <td>3.25</td>\n",
              "      <td>443.0</td>\n",
              "      <td>402.0</td>\n",
              "      <td>79100.0</td>\n",
              "      <td>25435.0</td>\n",
              "    </tr>\n",
              "    <tr>\n",
              "      <th>4128</th>\n",
              "      <td>4128</td>\n",
              "      <td>2021</td>\n",
              "      <td>638</td>\n",
              "      <td>Incid09</td>\n",
              "      <td>334.0</td>\n",
              "      <td>09/05/2021</td>\n",
              "      <td>1:36</td>\n",
              "      <td>5</td>\n",
              "      <td>9</td>\n",
              "      <td>19</td>\n",
              "      <td>...</td>\n",
              "      <td>3971</td>\n",
              "      <td>NaN</td>\n",
              "      <td>NaN</td>\n",
              "      <td>NaN</td>\n",
              "      <td>NaN</td>\n",
              "      <td>NaN</td>\n",
              "      <td>NaN</td>\n",
              "      <td>NaN</td>\n",
              "      <td>NaN</td>\n",
              "      <td>NaN</td>\n",
              "    </tr>\n",
              "    <tr>\n",
              "      <th>4129</th>\n",
              "      <td>4129</td>\n",
              "      <td>2021</td>\n",
              "      <td>639</td>\n",
              "      <td>EB48605</td>\n",
              "      <td>263.0</td>\n",
              "      <td>04/21/2021</td>\n",
              "      <td>17:32</td>\n",
              "      <td>21</td>\n",
              "      <td>4</td>\n",
              "      <td>33</td>\n",
              "      <td>...</td>\n",
              "      <td>98144</td>\n",
              "      <td>WA</td>\n",
              "      <td>26881.0</td>\n",
              "      <td>7895.0</td>\n",
              "      <td>3.40</td>\n",
              "      <td>1.75</td>\n",
              "      <td>12660.0</td>\n",
              "      <td>11511.0</td>\n",
              "      <td>391000.0</td>\n",
              "      <td>55950.0</td>\n",
              "    </tr>\n",
              "    <tr>\n",
              "      <th>4130</th>\n",
              "      <td>4130</td>\n",
              "      <td>2021</td>\n",
              "      <td>639</td>\n",
              "      <td>EB48605</td>\n",
              "      <td>263.0</td>\n",
              "      <td>04/21/2021</td>\n",
              "      <td>17:32</td>\n",
              "      <td>21</td>\n",
              "      <td>4</td>\n",
              "      <td>33</td>\n",
              "      <td>...</td>\n",
              "      <td>98144</td>\n",
              "      <td>WA</td>\n",
              "      <td>26881.0</td>\n",
              "      <td>7895.0</td>\n",
              "      <td>3.40</td>\n",
              "      <td>1.75</td>\n",
              "      <td>12660.0</td>\n",
              "      <td>11511.0</td>\n",
              "      <td>391000.0</td>\n",
              "      <td>55950.0</td>\n",
              "    </tr>\n",
              "    <tr>\n",
              "      <th>4131</th>\n",
              "      <td>4131</td>\n",
              "      <td>2021</td>\n",
              "      <td>640</td>\n",
              "      <td>Inciden</td>\n",
              "      <td>42.0</td>\n",
              "      <td>10/15/2021</td>\n",
              "      <td>14:55</td>\n",
              "      <td>15</td>\n",
              "      <td>10</td>\n",
              "      <td>67</td>\n",
              "      <td>...</td>\n",
              "      <td>98502</td>\n",
              "      <td>WA</td>\n",
              "      <td>30491.0</td>\n",
              "      <td>561.0</td>\n",
              "      <td>54.37</td>\n",
              "      <td>16.75</td>\n",
              "      <td>13997.0</td>\n",
              "      <td>12637.0</td>\n",
              "      <td>304000.0</td>\n",
              "      <td>60837.0</td>\n",
              "    </tr>\n",
              "  </tbody>\n",
              "</table>\n",
              "<p>3721 rows × 209 columns</p>\n",
              "</div>\n",
              "      <button class=\"colab-df-convert\" onclick=\"convertToInteractive('df-1ddcf0c7-cfb6-4b53-9093-037f88b9eb90')\"\n",
              "              title=\"Convert this dataframe to an interactive table.\"\n",
              "              style=\"display:none;\">\n",
              "        \n",
              "  <svg xmlns=\"http://www.w3.org/2000/svg\" height=\"24px\"viewBox=\"0 0 24 24\"\n",
              "       width=\"24px\">\n",
              "    <path d=\"M0 0h24v24H0V0z\" fill=\"none\"/>\n",
              "    <path d=\"M18.56 5.44l.94 2.06.94-2.06 2.06-.94-2.06-.94-.94-2.06-.94 2.06-2.06.94zm-11 1L8.5 8.5l.94-2.06 2.06-.94-2.06-.94L8.5 2.5l-.94 2.06-2.06.94zm10 10l.94 2.06.94-2.06 2.06-.94-2.06-.94-.94-2.06-.94 2.06-2.06.94z\"/><path d=\"M17.41 7.96l-1.37-1.37c-.4-.4-.92-.59-1.43-.59-.52 0-1.04.2-1.43.59L10.3 9.45l-7.72 7.72c-.78.78-.78 2.05 0 2.83L4 21.41c.39.39.9.59 1.41.59.51 0 1.02-.2 1.41-.59l7.78-7.78 2.81-2.81c.8-.78.8-2.07 0-2.86zM5.41 20L4 18.59l7.72-7.72 1.47 1.35L5.41 20z\"/>\n",
              "  </svg>\n",
              "      </button>\n",
              "      \n",
              "  <style>\n",
              "    .colab-df-container {\n",
              "      display:flex;\n",
              "      flex-wrap:wrap;\n",
              "      gap: 12px;\n",
              "    }\n",
              "\n",
              "    .colab-df-convert {\n",
              "      background-color: #E8F0FE;\n",
              "      border: none;\n",
              "      border-radius: 50%;\n",
              "      cursor: pointer;\n",
              "      display: none;\n",
              "      fill: #1967D2;\n",
              "      height: 32px;\n",
              "      padding: 0 0 0 0;\n",
              "      width: 32px;\n",
              "    }\n",
              "\n",
              "    .colab-df-convert:hover {\n",
              "      background-color: #E2EBFA;\n",
              "      box-shadow: 0px 1px 2px rgba(60, 64, 67, 0.3), 0px 1px 3px 1px rgba(60, 64, 67, 0.15);\n",
              "      fill: #174EA6;\n",
              "    }\n",
              "\n",
              "    [theme=dark] .colab-df-convert {\n",
              "      background-color: #3B4455;\n",
              "      fill: #D2E3FC;\n",
              "    }\n",
              "\n",
              "    [theme=dark] .colab-df-convert:hover {\n",
              "      background-color: #434B5C;\n",
              "      box-shadow: 0px 1px 3px 1px rgba(0, 0, 0, 0.15);\n",
              "      filter: drop-shadow(0px 1px 2px rgba(0, 0, 0, 0.3));\n",
              "      fill: #FFFFFF;\n",
              "    }\n",
              "  </style>\n",
              "\n",
              "      <script>\n",
              "        const buttonEl =\n",
              "          document.querySelector('#df-1ddcf0c7-cfb6-4b53-9093-037f88b9eb90 button.colab-df-convert');\n",
              "        buttonEl.style.display =\n",
              "          google.colab.kernel.accessAllowed ? 'block' : 'none';\n",
              "\n",
              "        async function convertToInteractive(key) {\n",
              "          const element = document.querySelector('#df-1ddcf0c7-cfb6-4b53-9093-037f88b9eb90');\n",
              "          const dataTable =\n",
              "            await google.colab.kernel.invokeFunction('convertToInteractive',\n",
              "                                                     [key], {});\n",
              "          if (!dataTable) return;\n",
              "\n",
              "          const docLinkHtml = 'Like what you see? Visit the ' +\n",
              "            '<a target=\"_blank\" href=https://colab.research.google.com/notebooks/data_table.ipynb>data table notebook</a>'\n",
              "            + ' to learn more about interactive tables.';\n",
              "          element.innerHTML = '';\n",
              "          dataTable['output_type'] = 'display_data';\n",
              "          await google.colab.output.renderOutput(dataTable, element);\n",
              "          const docLink = document.createElement('div');\n",
              "          docLink.innerHTML = docLinkHtml;\n",
              "          element.appendChild(docLink);\n",
              "        }\n",
              "      </script>\n",
              "    </div>\n",
              "  </div>\n",
              "  "
            ]
          },
          "metadata": {},
          "execution_count": 362
        }
      ]
    },
    {
      "cell_type": "code",
      "source": [
        "# for i in orig_data_with_zip.columns:\n",
        "#   print(i)"
      ],
      "metadata": {
        "id": "uMTKaQ2SQy1A"
      },
      "execution_count": 353,
      "outputs": []
    },
    {
      "cell_type": "markdown",
      "source": [
        "ANALYSIS Q1 - Proportion of people involved in crashes where dzip differes from zipcode"
      ],
      "metadata": {
        "id": "5yKGHUExWjdi"
      }
    },
    {
      "cell_type": "code",
      "source": [
        "q1 = orig_data_with_zip[['case','crash_dt','crash_tm','dzip','zipcode']]\n",
        "q1 = q1.dropna()\n",
        "\n",
        "q1_local = q1.loc[~(q1['dzip'] == q1['zipcode'])]\n",
        "q1_foreign = q1.loc[~(q1['dzip'] != q1['zipcode'])]\n",
        "\n",
        "print('Num local crashes:', len(q1_local['case']))\n",
        "print('Num foreign crashes:', len(q1_foreign['case']))\n",
        "print('Num crashes:', len(q1['case']))"
      ],
      "metadata": {
        "colab": {
          "base_uri": "https://localhost:8080/"
        },
        "id": "KmrcVN-LWi8L",
        "outputId": "8d0b19e1-a3b2-4b85-d08c-2fe2bce44fed"
      },
      "execution_count": 363,
      "outputs": [
        {
          "output_type": "stream",
          "name": "stdout",
          "text": [
            "Num local crashes: 2858\n",
            "Num foreign crashes: 862\n",
            "Num crashes: 3720\n"
          ]
        }
      ]
    },
    {
      "cell_type": "code",
      "source": [
        "# TODO visualize this"
      ],
      "metadata": {
        "id": "N8Q_cAv_smNr"
      },
      "execution_count": null,
      "outputs": []
    },
    {
      "cell_type": "markdown",
      "source": [
        "ANALYSIS Q1A - "
      ],
      "metadata": {
        "id": "aLwL5gysaT13"
      }
    },
    {
      "cell_type": "code",
      "source": [
        "# TODO"
      ],
      "metadata": {
        "id": "u5slRQAxzZUr"
      },
      "execution_count": null,
      "outputs": []
    },
    {
      "cell_type": "markdown",
      "source": [
        "ANALYSIS Q2 - Zipcodes producing drivers most likely to be involved in a crash"
      ],
      "metadata": {
        "id": "SqNRyIE0tAq2"
      }
    },
    {
      "cell_type": "code",
      "source": [
        "# prevent SQL Alchemy warnings from displaying with each SearchEngine call\n",
        "%%capture --no-display\n",
        "\n",
        "q2 = orig_data_with_zip.copy()\n",
        "\n",
        "# Drop all rows with mission driver zipcode or zipcode\n",
        "q2 = q2[q2['zipcode'].notna()] \n",
        "q2 = q2[q2['dzip'].notna()]  \n",
        "q2 = q2.astype({'dzip':'int', 'zipcode':'int'})\n",
        "\n",
        "q2[fields_to_add] = q2.apply(lambda row: augment_zip(row['dzip']), axis=1)\n",
        "q2[fields_to_add_list] = pd.DataFrame(q2[fields_to_add].tolist(), index=q2.index)\n",
        "q2 = q2.drop(fields_to_add, axis=1)\n",
        "\n",
        "q2 = q2[['case','crash_dt','crash_tm','dzip','population']]\n",
        "q2 = q2.dropna()"
      ],
      "metadata": {
        "id": "-4gprugwadAn"
      },
      "execution_count": 366,
      "outputs": []
    },
    {
      "cell_type": "code",
      "source": [
        "# pivot on dzip, measure counts of rows per dzip, carry over population based on corresponding dzip\n",
        "q2_pivot = pd.pivot_table(q2, values='case', index=['dzip','population'], aggfunc=np.ma.count)\n",
        "q2_summary = q2_pivot.reset_index(level=[1])\n",
        "q2_summary['resident drivers crashing per 10k residents'] = 10000* q2_summary['case'] / q2_summary['population']\n",
        "q2_summary"
      ],
      "metadata": {
        "colab": {
          "base_uri": "https://localhost:8080/",
          "height": 455
        },
        "id": "jtuxeQfvi-J5",
        "outputId": "6a6b8037-202e-4fc4-c08b-25db9a88c6b8"
      },
      "execution_count": 367,
      "outputs": [
        {
          "output_type": "execute_result",
          "data": {
            "text/plain": [
              "       population  case  resident drivers crashing per 10k residents\n",
              "dzip                                                                \n",
              "1060      15284.0     1                                     0.654279\n",
              "2863      19385.0     1                                     0.515863\n",
              "3869       2469.0     1                                     4.050223\n",
              "7021       2091.0     1                                     4.782401\n",
              "11368    109931.0     1                                     0.090966\n",
              "...           ...   ...                                          ...\n",
              "99371       311.0     3                                    96.463023\n",
              "99402      1875.0     1                                     5.333333\n",
              "99403     19548.0     9                                     4.604052\n",
              "99508     35857.0     2                                     0.557771\n",
              "99611     15122.0     1                                     0.661288\n",
              "\n",
              "[609 rows x 3 columns]"
            ],
            "text/html": [
              "\n",
              "  <div id=\"df-9597cb32-e0eb-45eb-b7aa-136913390b36\">\n",
              "    <div class=\"colab-df-container\">\n",
              "      <div>\n",
              "<style scoped>\n",
              "    .dataframe tbody tr th:only-of-type {\n",
              "        vertical-align: middle;\n",
              "    }\n",
              "\n",
              "    .dataframe tbody tr th {\n",
              "        vertical-align: top;\n",
              "    }\n",
              "\n",
              "    .dataframe thead th {\n",
              "        text-align: right;\n",
              "    }\n",
              "</style>\n",
              "<table border=\"1\" class=\"dataframe\">\n",
              "  <thead>\n",
              "    <tr style=\"text-align: right;\">\n",
              "      <th></th>\n",
              "      <th>population</th>\n",
              "      <th>case</th>\n",
              "      <th>resident drivers crashing per 10k residents</th>\n",
              "    </tr>\n",
              "    <tr>\n",
              "      <th>dzip</th>\n",
              "      <th></th>\n",
              "      <th></th>\n",
              "      <th></th>\n",
              "    </tr>\n",
              "  </thead>\n",
              "  <tbody>\n",
              "    <tr>\n",
              "      <th>1060</th>\n",
              "      <td>15284.0</td>\n",
              "      <td>1</td>\n",
              "      <td>0.654279</td>\n",
              "    </tr>\n",
              "    <tr>\n",
              "      <th>2863</th>\n",
              "      <td>19385.0</td>\n",
              "      <td>1</td>\n",
              "      <td>0.515863</td>\n",
              "    </tr>\n",
              "    <tr>\n",
              "      <th>3869</th>\n",
              "      <td>2469.0</td>\n",
              "      <td>1</td>\n",
              "      <td>4.050223</td>\n",
              "    </tr>\n",
              "    <tr>\n",
              "      <th>7021</th>\n",
              "      <td>2091.0</td>\n",
              "      <td>1</td>\n",
              "      <td>4.782401</td>\n",
              "    </tr>\n",
              "    <tr>\n",
              "      <th>11368</th>\n",
              "      <td>109931.0</td>\n",
              "      <td>1</td>\n",
              "      <td>0.090966</td>\n",
              "    </tr>\n",
              "    <tr>\n",
              "      <th>...</th>\n",
              "      <td>...</td>\n",
              "      <td>...</td>\n",
              "      <td>...</td>\n",
              "    </tr>\n",
              "    <tr>\n",
              "      <th>99371</th>\n",
              "      <td>311.0</td>\n",
              "      <td>3</td>\n",
              "      <td>96.463023</td>\n",
              "    </tr>\n",
              "    <tr>\n",
              "      <th>99402</th>\n",
              "      <td>1875.0</td>\n",
              "      <td>1</td>\n",
              "      <td>5.333333</td>\n",
              "    </tr>\n",
              "    <tr>\n",
              "      <th>99403</th>\n",
              "      <td>19548.0</td>\n",
              "      <td>9</td>\n",
              "      <td>4.604052</td>\n",
              "    </tr>\n",
              "    <tr>\n",
              "      <th>99508</th>\n",
              "      <td>35857.0</td>\n",
              "      <td>2</td>\n",
              "      <td>0.557771</td>\n",
              "    </tr>\n",
              "    <tr>\n",
              "      <th>99611</th>\n",
              "      <td>15122.0</td>\n",
              "      <td>1</td>\n",
              "      <td>0.661288</td>\n",
              "    </tr>\n",
              "  </tbody>\n",
              "</table>\n",
              "<p>609 rows × 3 columns</p>\n",
              "</div>\n",
              "      <button class=\"colab-df-convert\" onclick=\"convertToInteractive('df-9597cb32-e0eb-45eb-b7aa-136913390b36')\"\n",
              "              title=\"Convert this dataframe to an interactive table.\"\n",
              "              style=\"display:none;\">\n",
              "        \n",
              "  <svg xmlns=\"http://www.w3.org/2000/svg\" height=\"24px\"viewBox=\"0 0 24 24\"\n",
              "       width=\"24px\">\n",
              "    <path d=\"M0 0h24v24H0V0z\" fill=\"none\"/>\n",
              "    <path d=\"M18.56 5.44l.94 2.06.94-2.06 2.06-.94-2.06-.94-.94-2.06-.94 2.06-2.06.94zm-11 1L8.5 8.5l.94-2.06 2.06-.94-2.06-.94L8.5 2.5l-.94 2.06-2.06.94zm10 10l.94 2.06.94-2.06 2.06-.94-2.06-.94-.94-2.06-.94 2.06-2.06.94z\"/><path d=\"M17.41 7.96l-1.37-1.37c-.4-.4-.92-.59-1.43-.59-.52 0-1.04.2-1.43.59L10.3 9.45l-7.72 7.72c-.78.78-.78 2.05 0 2.83L4 21.41c.39.39.9.59 1.41.59.51 0 1.02-.2 1.41-.59l7.78-7.78 2.81-2.81c.8-.78.8-2.07 0-2.86zM5.41 20L4 18.59l7.72-7.72 1.47 1.35L5.41 20z\"/>\n",
              "  </svg>\n",
              "      </button>\n",
              "      \n",
              "  <style>\n",
              "    .colab-df-container {\n",
              "      display:flex;\n",
              "      flex-wrap:wrap;\n",
              "      gap: 12px;\n",
              "    }\n",
              "\n",
              "    .colab-df-convert {\n",
              "      background-color: #E8F0FE;\n",
              "      border: none;\n",
              "      border-radius: 50%;\n",
              "      cursor: pointer;\n",
              "      display: none;\n",
              "      fill: #1967D2;\n",
              "      height: 32px;\n",
              "      padding: 0 0 0 0;\n",
              "      width: 32px;\n",
              "    }\n",
              "\n",
              "    .colab-df-convert:hover {\n",
              "      background-color: #E2EBFA;\n",
              "      box-shadow: 0px 1px 2px rgba(60, 64, 67, 0.3), 0px 1px 3px 1px rgba(60, 64, 67, 0.15);\n",
              "      fill: #174EA6;\n",
              "    }\n",
              "\n",
              "    [theme=dark] .colab-df-convert {\n",
              "      background-color: #3B4455;\n",
              "      fill: #D2E3FC;\n",
              "    }\n",
              "\n",
              "    [theme=dark] .colab-df-convert:hover {\n",
              "      background-color: #434B5C;\n",
              "      box-shadow: 0px 1px 3px 1px rgba(0, 0, 0, 0.15);\n",
              "      filter: drop-shadow(0px 1px 2px rgba(0, 0, 0, 0.3));\n",
              "      fill: #FFFFFF;\n",
              "    }\n",
              "  </style>\n",
              "\n",
              "      <script>\n",
              "        const buttonEl =\n",
              "          document.querySelector('#df-9597cb32-e0eb-45eb-b7aa-136913390b36 button.colab-df-convert');\n",
              "        buttonEl.style.display =\n",
              "          google.colab.kernel.accessAllowed ? 'block' : 'none';\n",
              "\n",
              "        async function convertToInteractive(key) {\n",
              "          const element = document.querySelector('#df-9597cb32-e0eb-45eb-b7aa-136913390b36');\n",
              "          const dataTable =\n",
              "            await google.colab.kernel.invokeFunction('convertToInteractive',\n",
              "                                                     [key], {});\n",
              "          if (!dataTable) return;\n",
              "\n",
              "          const docLinkHtml = 'Like what you see? Visit the ' +\n",
              "            '<a target=\"_blank\" href=https://colab.research.google.com/notebooks/data_table.ipynb>data table notebook</a>'\n",
              "            + ' to learn more about interactive tables.';\n",
              "          element.innerHTML = '';\n",
              "          dataTable['output_type'] = 'display_data';\n",
              "          await google.colab.output.renderOutput(dataTable, element);\n",
              "          const docLink = document.createElement('div');\n",
              "          docLink.innerHTML = docLinkHtml;\n",
              "          element.appendChild(docLink);\n",
              "        }\n",
              "      </script>\n",
              "    </div>\n",
              "  </div>\n",
              "  "
            ]
          },
          "metadata": {},
          "execution_count": 367
        }
      ]
    },
    {
      "cell_type": "code",
      "source": [
        "# TODO make a bar plot"
      ],
      "metadata": {
        "id": "mb_ovnfgshU7"
      },
      "execution_count": null,
      "outputs": []
    },
    {
      "cell_type": "code",
      "source": [
        "# TODO heatmap of zipcodes producing bad drivers and another heatmat of zipcodes where crashes occur?\n",
        "# some kind of diff of these to show where to put street signs versus where to target residents?"
      ],
      "metadata": {
        "id": "2KqU2CUOstnG"
      },
      "execution_count": null,
      "outputs": []
    },
    {
      "cell_type": "markdown",
      "source": [
        "ANALYSIS Q2A - "
      ],
      "metadata": {
        "id": "MjiRDisGtCfR"
      }
    },
    {
      "cell_type": "code",
      "source": [
        "# TODO"
      ],
      "metadata": {
        "id": "lMW8-ByJzbMN"
      },
      "execution_count": null,
      "outputs": []
    }
  ]
}