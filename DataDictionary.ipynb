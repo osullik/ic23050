{
  "nbformat": 4,
  "nbformat_minor": 0,
  "metadata": {
    "colab": {
      "provenance": [],
      "toc_visible": true,
      "authorship_tag": "ABX9TyMx/r7FlfUNM3C7TMa14KHM",
      "include_colab_link": true
    },
    "kernelspec": {
      "name": "python3",
      "display_name": "Python 3"
    },
    "language_info": {
      "name": "python"
    }
  },
  "cells": [
    {
      "cell_type": "markdown",
      "metadata": {
        "id": "view-in-github",
        "colab_type": "text"
      },
      "source": [
        "<a href=\"https://colab.research.google.com/github/osullik/ic23050/blob/main/DataDictionary.ipynb\" target=\"_parent\"><img src=\"https://colab.research.google.com/assets/colab-badge.svg\" alt=\"Open In Colab\"/></a>"
      ]
    },
    {
      "cell_type": "code",
      "execution_count": 1,
      "metadata": {
        "id": "QRIK9KJvKAYy"
      },
      "outputs": [],
      "source": [
        "from google.colab import drive\n",
        "import pandas as pd\n",
        "import json\n",
        "from collections import defaultdict"
      ]
    },
    {
      "cell_type": "code",
      "source": [
        "DD = pd.ExcelFile(\"https://github.com/osullik/ic23050/blob/main/L4%20Washington%20Fatal%20Crash%20Files%20-%20Washington%20Traffic%20Safety%20Commission/DataDictionary_Washington%20Fatal%20Crash%20Files.xlsx?raw=true\")"
      ],
      "metadata": {
        "id": "ODDvNGVaMsMT"
      },
      "execution_count": 2,
      "outputs": []
    },
    {
      "cell_type": "code",
      "source": [
        "for sheet in DD.sheet_names:\n",
        "  print(sheet)\n",
        "  \n"
      ],
      "metadata": {
        "colab": {
          "base_uri": "https://localhost:8080/"
        },
        "id": "U1KCLmNYNaeo",
        "outputId": "c7d25e35-8598-4885-9fc9-76965a058f75"
      },
      "execution_count": 3,
      "outputs": [
        {
          "output_type": "stream",
          "name": "stdout",
          "text": [
            "ReadMe\n",
            "CRASH Data Files\n",
            "PERSON Data Files\n",
            "Tables1\n",
            "Tables2\n",
            "Tables3\n",
            "Tables4\n",
            "Tables5\n",
            "Tables6\n",
            "Tables7\n",
            "Tables8\n",
            "Tables9\n"
          ]
        }
      ]
    },
    {
      "cell_type": "code",
      "source": [
        "#Seperate out each sheet in the data dictionary \n",
        "ReadMe = pd.read_excel(DD, 'ReadMe')\n",
        "CrashDataFiles = pd.read_excel(DD, 'CRASH Data Files')\n",
        "PersonDataFiles = pd.read_excel(DD, 'PERSON Data Files')\n",
        "#Tables1 = pd.read_excel(DD, 'Tables1')\n",
        "#Tables2 = pd.read_excel(DD, 'Tables2')\n",
        "#Tables3 = pd.read_excel(DD, 'Tables3')\n",
        "Tables4 = pd.read_excel(DD, 'Tables4')\n",
        "Tables5 = pd.read_excel(DD, 'Tables5')\n",
        "Tables6 = pd.read_excel(DD, 'Tables6')\n",
        "Tables7 = pd.read_excel(DD, 'Tables7')\n",
        "Tables8 = pd.read_excel(DD, 'Tables8')\n",
        "Tables9 = pd.read_excel(DD, 'Tables9')"
      ],
      "metadata": {
        "id": "QLH2YtCYNrOL"
      },
      "execution_count": 4,
      "outputs": []
    },
    {
      "cell_type": "code",
      "source": [
        "'''\n",
        "getKVPairs is a function to extract KV Pairs from dirty excel data\n",
        "  Input Args:\n",
        "    desc: a String \"description\" of the values we want to extract. Should \n",
        "      include target KV pairs in the form KEY=VALUE where KEY is a number and \n",
        "      VALUE are non-numeric substrings. \n",
        "  Method: \n",
        "    Break the string into characters\n",
        "    Accumulate numeric values until an \"=\" is seen. The \"=\" is an assignment  \n",
        "      we infer the numbers prior are the key and this is appended to keyList\n",
        "    Accumulate characters until either EOF or another numerical value is found\n",
        "      we infer all strings between keys are their associated values. \n",
        "    \n",
        "    Before appending a value to the definition list, remove newline and \n",
        "      truncate spaces\n",
        "\n",
        "    Zip the KeyList and DefinitionList together, and return\n",
        "\n",
        "  Returns:\n",
        "    A list of Tuples in the form [(Key, Value)]\n",
        "\n",
        "'''\n",
        "def getKVPairs(desc):\n",
        "                                                #Init Vars\n",
        "  number = \"\"\n",
        "  definition = \"\"\n",
        "  keyList = []\n",
        "  definitionList = []\n",
        "  keyFound = False\n",
        "                                                #Filter out non-strings\n",
        "  if type(desc) == str:\n",
        "    for char in desc:\n",
        "      \n",
        "      if char.isnumeric() == True:              #Build the Keys\n",
        "        if keyFound == True:\n",
        "          definition = definition.strip(\"\\n\")\n",
        "          definition = definition.strip()\n",
        "          definitionList.append(definition)\n",
        "          definition = \"\"\n",
        "          keyFound = False\n",
        "          number += char\n",
        "\n",
        "        else:                                   #Build the Values\n",
        "          number += char\n",
        "\n",
        "      elif char == (\"=\"):                       #Commit the Key\n",
        "        keyList.append(number)\n",
        "        number = \"\"\n",
        "        keyFound = True\n",
        "\n",
        "      else:                                     #Build the value\n",
        "        definition += char \n",
        "    else:\n",
        "      pass\n",
        "                                                #Add the last Definition\n",
        "    definition = definition.strip(\"\\n\")\n",
        "    definition = definition.strip()\n",
        "    definitionList.append(definition)\n",
        "\n",
        "  toReturn = list(zip(keyList,definitionList))  #Create a list of (K,V) Tuples\n",
        "\n",
        "  return(toReturn)    "
      ],
      "metadata": {
        "id": "S3GvxIrQ4eZa"
      },
      "execution_count": 5,
      "outputs": []
    },
    {
      "cell_type": "code",
      "source": [
        "#Parse the CrashDataFile into JSON\n",
        "dataDict = defaultdict(dict)                    #Build the Data Dictionary\n",
        "\n",
        "for idx, series in CrashDataFiles.iterrows():  #Step through each var in turn\n",
        "  var = series['VARIABLE']                      #The loop extracts one record\n",
        "  typ = series['TYPE']                          #And then selects relevant cells\n",
        "  length = series['LENGTH']                     #The cells get passed to the \n",
        "  format = series['FORMAT']                     #getKVPairs() function below\n",
        "  label = series['LABEL']\n",
        "  desc = series['DESCRIPTION/COMMENT']\n",
        "\n",
        "                                                #Populate the Data Dictionary\n",
        "  dataDict[var][\"TYPE\"]     = typ\n",
        "  dataDict[var][\"LENGTH\"]   = length \n",
        "  dataDict[var][\"FORMAT\"]   = format \n",
        "  dataDict[var][\"LABEL\"]    = label \n",
        "\n",
        "  kvPairList = getKVPairs(desc)                 #Get list (K,V) tuples for DATA\n",
        "\n",
        "  dataDict[var][\"DATA\"]    = dict(kvPairList)\n",
        "\n",
        "  \n"
      ],
      "metadata": {
        "id": "nQxe6TC1NrVs"
      },
      "execution_count": 16,
      "outputs": []
    },
    {
      "cell_type": "code",
      "source": [
        "#Create JSON object out of CrashFileData\n",
        "json_CrashDataFile = json.dumps(dataDict, indent = 4) "
      ],
      "metadata": {
        "id": "0QiwT_R2Ph9R"
      },
      "execution_count": 7,
      "outputs": []
    },
    {
      "cell_type": "code",
      "source": [
        "#Parse the PersonDataFile into JSON\n",
        "dataDict_PersonData = defaultdict(dict)                    #Build the Data Dictionary\n",
        "\n",
        "print(PersonDataFiles.columns)\n",
        "\n",
        "for idx, series in PersonDataFiles.iterrows():   #Step through each var in turn\n",
        "  var = series['VARIABLE']\n",
        "  typ = series['TYPE']\n",
        "  length = series['LENGTH']\n",
        "  format = series['FORMAT']\n",
        "  label = series['LABEL']\n",
        "  desc = series['DESCRIPTION/COMMENT']\n",
        "\n",
        "                                                #Populate the Data Dictionary\n",
        "  dataDict_PersonData[var][\"TYPE\"]     = typ\n",
        "  dataDict_PersonData[var][\"LENGTH\"]   = length \n",
        "  dataDict_PersonData[var][\"FORMAT\"]   = format \n",
        "  dataDict_PersonData[var][\"LABEL\"]    = label \n",
        "\n",
        "  kvPairList = getKVPairs(desc)                 #Get list (K,V) tuples for DATA\n",
        "\n",
        "  dataDict_PersonData[var][\"DATA\"]    = dict(kvPairList)"
      ],
      "metadata": {
        "colab": {
          "base_uri": "https://localhost:8080/"
        },
        "id": "mowbCCllPr2m",
        "outputId": "ebef0393-84ec-42af-822a-83df6865fe7a"
      },
      "execution_count": 8,
      "outputs": [
        {
          "output_type": "stream",
          "name": "stdout",
          "text": [
            "Index(['Unnamed: 0', 'VARIABLE', 'TYPE', 'LENGTH', 'FORMAT', 'LABEL',\n",
            "       'DESCRIPTION/COMMENT', 'Notes / SAS Code', 'Unnamed: 8', 'Unnamed: 9'],\n",
            "      dtype='object')\n"
          ]
        }
      ]
    },
    {
      "cell_type": "code",
      "source": [
        "#Create JSON object out of PersonFileData\n",
        "json_PersonDataFile = json.dumps(dataDict_PersonData, indent = 4) "
      ],
      "metadata": {
        "id": "oA5vfD1iPr63"
      },
      "execution_count": 9,
      "outputs": []
    },
    {
      "cell_type": "code",
      "source": [
        "#Extract the messy table data from the TABLES1 Sheet \n",
        "  #(Manual inspection used to determine the cut points for the DFs)\n",
        "Tables1_county = pd.read_excel(DD, 'Tables1', skiprows = 1, nrows=40,\n",
        "                               usecols= 'A')\n",
        "Tables1_harmfulEvent = pd.read_excel(DD, 'Tables1', skiprows = 1, nrows=40,  \n",
        "                                     usecols= 'B,D')\n",
        "Tables1_trafficControl = pd.read_excel(DD, 'Tables1', skiprows = 42, nrows=20,  \n",
        "                                       usecols= 'A,D')\n",
        "Tables1_seatingPosition = pd.read_excel(DD, 'Tables1', skiprows = 0, nrows=31,  \n",
        "                                        usecols= 'E')\n"
      ],
      "metadata": {
        "id": "WREnT1qpPsDc"
      },
      "execution_count": 10,
      "outputs": []
    },
    {
      "cell_type": "code",
      "source": [
        "#Parse out the County Numbering System\n",
        "dataDict_Table1 = defaultdict(dict)                    #Build the Data Dictionary\n",
        "\n",
        "#print(Tables1_county.columns)\n",
        "dataDict_Table1[\"County_Name\"][\"DATA\"] = {}\n",
        "\n",
        "for idx, series in Tables1_county.iterrows():   #Step through each var in turn\n",
        "  \n",
        "  desc = series['county_char']\n",
        "\n",
        "  kvPairList = getKVPairs(desc)                 #Get list (K,V) tuples for DATA\n",
        "  kvPairTuple = tuple(kvPairList[0])\n",
        "\n",
        "  dataDict_Table1[\"County_Name\"][\"DATA\"][kvPairTuple[0]] = kvPairTuple[1]"
      ],
      "metadata": {
        "id": "KvhW7AipPsHe"
      },
      "execution_count": 51,
      "outputs": []
    },
    {
      "cell_type": "code",
      "source": [
        "#Parse out the Harmful Event Data from Table1\n",
        "\n",
        "dataDict_Table1[\"Harmful_Event\"][\"DATA\"] = {}\n",
        "\n",
        "for idx, series in Tables1_harmfulEvent.iterrows():   #Step through each var in turn\n",
        "  \n",
        "  desc1 = series['Non-Collision']\n",
        "  desc2 = series['Unnamed: 3']\n",
        "\n",
        "  kvPairList1 = getKVPairs(desc1)                 #Get list (K,V) tuples for DATA\n",
        "  kvPairList2 = getKVPairs(desc2)\n",
        "\n",
        "\n",
        "  #Following try/catch statements account for misalignment of columns in \n",
        "  #input data\n",
        "  try:                                            #Transform into tuples\n",
        "    kvPairTuple1 = tuple(kvPairList1[0])\n",
        "  except IndexError:\n",
        "    pass\n",
        "\n",
        "  try:\n",
        "    kvPairTuple2 = tuple(kvPairList2[0])\n",
        "  except IndexError:\n",
        "    pass\n",
        "\n",
        "  try:                                           #Update the Dicts\n",
        "    dataDict_Table1[\"Harmful_Event\"][\"DATA\"][kvPairTuple1[0]] = kvPairTuple1[1]\n",
        "  except NameError:\n",
        "    pass\n",
        "  try:\n",
        "    dataDict_Table1[\"Harmful_Event\"][\"DATA\"][kvPairTuple2[0]] = kvPairTuple2[1]\n",
        "  except NameError:\n",
        "    pass"
      ],
      "metadata": {
        "id": "Ofy--07EPsOQ"
      },
      "execution_count": 12,
      "outputs": []
    },
    {
      "cell_type": "code",
      "source": [
        "#Parse out the Traffic Control Data from Table1\n",
        "\n",
        "dataDict_Table1[\"Traffic_Control\"][\"DATA\"] = {}\n",
        "\n",
        "for idx, series in Tables1_trafficControl.iterrows():   #Step through each var in turn\n",
        "  \n",
        "  desc1 = series['TRAFFIC CONTROL DEVICE']\n",
        "  desc2 = series['Unnamed: 3']\n",
        "\n",
        "  kvPairList1 = getKVPairs(desc1)                 #Get list (K,V) tuples for DATA\n",
        "  kvPairList2 = getKVPairs(desc2)\n",
        "\n",
        "  #Following try/catch statements account for misalignment of columns in \n",
        "  #input data\n",
        "  try:                                            #Transform into tuples\n",
        "    kvPairTuple1 = tuple(kvPairList1[0])\n",
        "  except IndexError:\n",
        "    pass\n",
        "\n",
        "  try:\n",
        "    kvPairTuple2 = tuple(kvPairList2[0])\n",
        "  except IndexError:\n",
        "    pass\n",
        "\n",
        "  try:                                           #Update the Dicts\n",
        "    dataDict_Table1[\"Traffic_Control\"][\"DATA\"][kvPairTuple1[0]] = kvPairTuple1[1]\n",
        "  except NameError:\n",
        "    pass\n",
        "  try:\n",
        "    dataDict_Table1[\"Traffic_Control\"][\"DATA\"][kvPairTuple2[0]] = kvPairTuple2[1]\n",
        "  except NameError:\n",
        "    pass"
      ],
      "metadata": {
        "id": "6S8joujnY4g6"
      },
      "execution_count": 13,
      "outputs": []
    },
    {
      "cell_type": "code",
      "source": [
        "#Parse out the Seating Positions\n",
        "dataDict_Table1[\"Seating_Position\"][\"DATA\"] = {}\n",
        "\n",
        "for idx, series in Tables1_seatingPosition.iterrows():   #Step through each var in turn\n",
        "  \n",
        "  desc = series['SEATING POSITION']\n",
        "\n",
        "  kvPairList = getKVPairs(desc)                 #Get list (K,V) tuples for DATA\n",
        "  try:\n",
        "    kvPairTuple = tuple(kvPairList[0])\n",
        "    dataDict_Table1[\"Seating_Position\"][\"DATA\"][kvPairTuple[0]] = kvPairTuple[1]\n",
        "  except IndexError:\n",
        "    pass"
      ],
      "metadata": {
        "id": "9WKk5wImbHF3"
      },
      "execution_count": 14,
      "outputs": []
    },
    {
      "cell_type": "code",
      "source": [
        "#Create a JSON object of the Table1 Data\n",
        "json_Table1 = json.dumps(dataDict_Table1, indent = 4) "
      ],
      "metadata": {
        "id": "VQW5rCcicHjP"
      },
      "execution_count": 15,
      "outputs": []
    },
    {
      "cell_type": "code",
      "source": [
        "#Extract the messy table data from the TABLES2 Sheet \n",
        "  #(Manual inspection used to determine the cut points for the DFs)\n",
        "Tables2_driverViolations = pd.read_excel(DD, 'Tables2', skiprows = 0, nrows=5,\n",
        "                               usecols= 'A')\n",
        "Tables2_driverViolations = Tables2_driverViolations.append(pd.read_excel(DD, \n",
        "                              'Tables2', skiprows = 4, nrows=1, header=None,\n",
        "                               usecols= 'B:D'))\n",
        "\n",
        "Tables2_safetyRestraint = pd.read_excel(DD, 'Tables2', skiprows = 0, nrows = 3, \n",
        "                                        usecols = 'B')\n",
        "\n",
        "Tables2_driverLicense = pd.read_excel(DD, 'Tables2', skiprows = 0, nrows = 3, \n",
        "                                        usecols = 'C,D')"
      ],
      "metadata": {
        "id": "KuBOzvemSBDU"
      },
      "execution_count": 121,
      "outputs": []
    },
    {
      "cell_type": "code",
      "source": [
        "def flattenLists(inputListofLists):\n",
        "\n",
        "  #print(inputListofLists)\n",
        "\n",
        "  flattenedList = []\n",
        "\n",
        "  for sublist in inputListofLists:\n",
        "    flattenedList.append(sublist)\n",
        "    \n",
        "  #print(flattenedList)\n",
        "  return flattenedList"
      ],
      "metadata": {
        "id": "_XDnnGI7bfTW"
      },
      "execution_count": 122,
      "outputs": []
    },
    {
      "cell_type": "code",
      "source": [
        "Tables2_driverViolations"
      ],
      "metadata": {
        "id": "XYddvDfkkLmV",
        "outputId": "4d8ef44f-d47f-4907-88a6-3937e3927376",
        "colab": {
          "base_uri": "https://localhost:8080/",
          "height": 320
        }
      },
      "execution_count": 127,
      "outputs": [
        {
          "output_type": "execute_result",
          "data": {
            "text/plain": [
              "                               DRIVER VIOLATIONS 1-6  \\\n",
              "0  0=None\\n1=Manslaughter or homicide \\n2=Willful...   \n",
              "1                                                NaN   \n",
              "2  16=Driving with detectable alcohol \\n18=Refusa...   \n",
              "3  41=Turn violation of traffic control (disobey ...   \n",
              "0                                                NaN   \n",
              "\n",
              "                                                   1  \\\n",
              "0                                                NaN   \n",
              "1                                                NaN   \n",
              "2                                                NaN   \n",
              "3                                                NaN   \n",
              "0  58=Following too closely\\n59=Wrong side, passi...   \n",
              "\n",
              "                                                   2  \\\n",
              "0                                                NaN   \n",
              "1                                                NaN   \n",
              "2                                                NaN   \n",
              "3                                                NaN   \n",
              "0  81=Lamp violation\\n82=Brake violation\\n83=Safe...   \n",
              "\n",
              "                                                   3  \n",
              "0                                                NaN  \n",
              "1                                                NaN  \n",
              "2                                                NaN  \n",
              "3                                                NaN  \n",
              "0  \\n87=Ice, Snow, Slush, Water, Sand, Dirt, Oil,...  "
            ],
            "text/html": [
              "\n",
              "  <div id=\"df-8e5b24ab-4cb3-4b14-8db1-d5f7de12181d\">\n",
              "    <div class=\"colab-df-container\">\n",
              "      <div>\n",
              "<style scoped>\n",
              "    .dataframe tbody tr th:only-of-type {\n",
              "        vertical-align: middle;\n",
              "    }\n",
              "\n",
              "    .dataframe tbody tr th {\n",
              "        vertical-align: top;\n",
              "    }\n",
              "\n",
              "    .dataframe thead th {\n",
              "        text-align: right;\n",
              "    }\n",
              "</style>\n",
              "<table border=\"1\" class=\"dataframe\">\n",
              "  <thead>\n",
              "    <tr style=\"text-align: right;\">\n",
              "      <th></th>\n",
              "      <th>DRIVER VIOLATIONS 1-6</th>\n",
              "      <th>1</th>\n",
              "      <th>2</th>\n",
              "      <th>3</th>\n",
              "    </tr>\n",
              "  </thead>\n",
              "  <tbody>\n",
              "    <tr>\n",
              "      <th>0</th>\n",
              "      <td>0=None\\n1=Manslaughter or homicide \\n2=Willful...</td>\n",
              "      <td>NaN</td>\n",
              "      <td>NaN</td>\n",
              "      <td>NaN</td>\n",
              "    </tr>\n",
              "    <tr>\n",
              "      <th>1</th>\n",
              "      <td>NaN</td>\n",
              "      <td>NaN</td>\n",
              "      <td>NaN</td>\n",
              "      <td>NaN</td>\n",
              "    </tr>\n",
              "    <tr>\n",
              "      <th>2</th>\n",
              "      <td>16=Driving with detectable alcohol \\n18=Refusa...</td>\n",
              "      <td>NaN</td>\n",
              "      <td>NaN</td>\n",
              "      <td>NaN</td>\n",
              "    </tr>\n",
              "    <tr>\n",
              "      <th>3</th>\n",
              "      <td>41=Turn violation of traffic control (disobey ...</td>\n",
              "      <td>NaN</td>\n",
              "      <td>NaN</td>\n",
              "      <td>NaN</td>\n",
              "    </tr>\n",
              "    <tr>\n",
              "      <th>0</th>\n",
              "      <td>NaN</td>\n",
              "      <td>58=Following too closely\\n59=Wrong side, passi...</td>\n",
              "      <td>81=Lamp violation\\n82=Brake violation\\n83=Safe...</td>\n",
              "      <td>\\n87=Ice, Snow, Slush, Water, Sand, Dirt, Oil,...</td>\n",
              "    </tr>\n",
              "  </tbody>\n",
              "</table>\n",
              "</div>\n",
              "      <button class=\"colab-df-convert\" onclick=\"convertToInteractive('df-8e5b24ab-4cb3-4b14-8db1-d5f7de12181d')\"\n",
              "              title=\"Convert this dataframe to an interactive table.\"\n",
              "              style=\"display:none;\">\n",
              "        \n",
              "  <svg xmlns=\"http://www.w3.org/2000/svg\" height=\"24px\"viewBox=\"0 0 24 24\"\n",
              "       width=\"24px\">\n",
              "    <path d=\"M0 0h24v24H0V0z\" fill=\"none\"/>\n",
              "    <path d=\"M18.56 5.44l.94 2.06.94-2.06 2.06-.94-2.06-.94-.94-2.06-.94 2.06-2.06.94zm-11 1L8.5 8.5l.94-2.06 2.06-.94-2.06-.94L8.5 2.5l-.94 2.06-2.06.94zm10 10l.94 2.06.94-2.06 2.06-.94-2.06-.94-.94-2.06-.94 2.06-2.06.94z\"/><path d=\"M17.41 7.96l-1.37-1.37c-.4-.4-.92-.59-1.43-.59-.52 0-1.04.2-1.43.59L10.3 9.45l-7.72 7.72c-.78.78-.78 2.05 0 2.83L4 21.41c.39.39.9.59 1.41.59.51 0 1.02-.2 1.41-.59l7.78-7.78 2.81-2.81c.8-.78.8-2.07 0-2.86zM5.41 20L4 18.59l7.72-7.72 1.47 1.35L5.41 20z\"/>\n",
              "  </svg>\n",
              "      </button>\n",
              "      \n",
              "  <style>\n",
              "    .colab-df-container {\n",
              "      display:flex;\n",
              "      flex-wrap:wrap;\n",
              "      gap: 12px;\n",
              "    }\n",
              "\n",
              "    .colab-df-convert {\n",
              "      background-color: #E8F0FE;\n",
              "      border: none;\n",
              "      border-radius: 50%;\n",
              "      cursor: pointer;\n",
              "      display: none;\n",
              "      fill: #1967D2;\n",
              "      height: 32px;\n",
              "      padding: 0 0 0 0;\n",
              "      width: 32px;\n",
              "    }\n",
              "\n",
              "    .colab-df-convert:hover {\n",
              "      background-color: #E2EBFA;\n",
              "      box-shadow: 0px 1px 2px rgba(60, 64, 67, 0.3), 0px 1px 3px 1px rgba(60, 64, 67, 0.15);\n",
              "      fill: #174EA6;\n",
              "    }\n",
              "\n",
              "    [theme=dark] .colab-df-convert {\n",
              "      background-color: #3B4455;\n",
              "      fill: #D2E3FC;\n",
              "    }\n",
              "\n",
              "    [theme=dark] .colab-df-convert:hover {\n",
              "      background-color: #434B5C;\n",
              "      box-shadow: 0px 1px 3px 1px rgba(0, 0, 0, 0.15);\n",
              "      filter: drop-shadow(0px 1px 2px rgba(0, 0, 0, 0.3));\n",
              "      fill: #FFFFFF;\n",
              "    }\n",
              "  </style>\n",
              "\n",
              "      <script>\n",
              "        const buttonEl =\n",
              "          document.querySelector('#df-8e5b24ab-4cb3-4b14-8db1-d5f7de12181d button.colab-df-convert');\n",
              "        buttonEl.style.display =\n",
              "          google.colab.kernel.accessAllowed ? 'block' : 'none';\n",
              "\n",
              "        async function convertToInteractive(key) {\n",
              "          const element = document.querySelector('#df-8e5b24ab-4cb3-4b14-8db1-d5f7de12181d');\n",
              "          const dataTable =\n",
              "            await google.colab.kernel.invokeFunction('convertToInteractive',\n",
              "                                                     [key], {});\n",
              "          if (!dataTable) return;\n",
              "\n",
              "          const docLinkHtml = 'Like what you see? Visit the ' +\n",
              "            '<a target=\"_blank\" href=https://colab.research.google.com/notebooks/data_table.ipynb>data table notebook</a>'\n",
              "            + ' to learn more about interactive tables.';\n",
              "          element.innerHTML = '';\n",
              "          dataTable['output_type'] = 'display_data';\n",
              "          await google.colab.output.renderOutput(dataTable, element);\n",
              "          const docLink = document.createElement('div');\n",
              "          docLink.innerHTML = docLinkHtml;\n",
              "          element.appendChild(docLink);\n",
              "        }\n",
              "      </script>\n",
              "    </div>\n",
              "  </div>\n",
              "  "
            ]
          },
          "metadata": {},
          "execution_count": 127
        }
      ]
    },
    {
      "cell_type": "code",
      "source": [
        "#Parse out the Driver Violations Numbering System\n",
        "dataDict_Table2 = defaultdict(dict)                    #Build the Data Dictionary\n",
        "\n",
        "#Tables2_driverViolations.columns\n",
        "dataDict_Table2[\"Driver_Violations\"][\"DATA\"] = {}\n",
        "\n",
        "desc1 = None\n",
        "desc2 = None\n",
        "desc3 = None\n",
        "desc4 = None\n",
        "\n",
        "dv_flattenedList = []\n",
        "\n",
        "\n",
        "for idx, series in Tables2_driverViolations.iterrows():   #Step through each var in turn\n",
        "  \n",
        "  desc1 = series['DRIVER VIOLATIONS 1-6']\n",
        "  desc2 = series[1]\n",
        "  desc3 = series[2]\n",
        "  desc4 = series[3]\n",
        "\n",
        "  dv_kvPairList1 = getKVPairs(desc1)                 #Get list (K,V) tuples for DATA\n",
        "  dv_kvPairList2 = getKVPairs(desc2)                  #Var names changed to stop\n",
        "  dv_kvPairList3 = getKVPairs(desc3)                  #X-contamination in Notebook\n",
        "  dv_kvPairList4 = getKVPairs(desc4)\n",
        "\n",
        "  dv_flattenedList += flattenLists(dv_kvPairList1)    #Flatten the lists into one\n",
        "  dv_flattenedList += flattenLists(dv_kvPairList2)      #list of tuples\n",
        "  dv_flattenedList += flattenLists(dv_kvPairList3)\n",
        "  dv_flattenedList += flattenLists(dv_kvPairList4)\n",
        "\n",
        "\n",
        "for tup in dv_flattenedList:                       #Populate the DataDict\n",
        "  dataDict_Table2[\"Driver_Violations\"][\"DATA\"][tup[0]] = tup[1]\n"
      ],
      "metadata": {
        "id": "wNQ4JyS0XAYx"
      },
      "execution_count": 145,
      "outputs": []
    },
    {
      "cell_type": "code",
      "source": [
        "#Parse out the Safety Restraint Data\n",
        "dataDict_Table2[\"Safety_Restraint\"][\"DATA\"] = {}\n",
        "flattenedList = []\n",
        "\n",
        "for idx, series in Tables2_safetyRestraint.iterrows(): \n",
        "\n",
        "  desc = series['SAFETY RESTRAINT USE']\n",
        "\n",
        "  kvPairList = getKVPairs(desc)                 #Get list (K,V) tuples for DATA\n",
        "  \n",
        "  flattenedList += flattenLists(kvPairList)     #Flatten into a list of tuples\n",
        "  \n",
        "for tup in flattenedList:                       #Build the dictionary from tuples\n",
        "  dataDict_Table2[\"Safety_Restraint\"][\"DATA\"][tup[0]] = tup[1]\n",
        "\n"
      ],
      "metadata": {
        "id": "Lqo4lv-dggCU"
      },
      "execution_count": 142,
      "outputs": []
    },
    {
      "cell_type": "code",
      "source": [],
      "metadata": {
        "id": "usL2zn8Tj-Ru"
      },
      "execution_count": null,
      "outputs": []
    },
    {
      "cell_type": "code",
      "source": [
        "#Parse out the Driver License Origin Data:\n",
        "\n",
        "dataDict_Table2[\"Driver_License_State\"][\"DATA\"] = {}\n",
        "flattenedList = []\n",
        "desc1 = None\n",
        "desc2 = None\n",
        "\n",
        "for idx, series in Tables2_driverLicense.iterrows(): \n",
        "\n",
        "  desc1 = series['DRIVER LICENSE STATE']\n",
        "  desc2 = series['Unnamed: 3']\n",
        "\n",
        "  kvPairList1 = getKVPairs(desc1)                 #Get list (K,V) tuples for DATA\n",
        "  kvPairList2 = getKVPairs(desc2)\n",
        "\n",
        "  flattenedList += flattenLists(kvPairList1)     #Flatten into a list of tuples\n",
        "  flattenedList += flattenLists(kvPairList2)\n",
        "\n",
        "for tup in flattenedList:                       #Build the dictionary from tuples\n",
        "  dataDict_Table2[\"Driver_License_State\"][\"DATA\"][tup[0]] = tup[1]\n"
      ],
      "metadata": {
        "id": "sb7sZe2Ohu4a"
      },
      "execution_count": 143,
      "outputs": []
    },
    {
      "cell_type": "code",
      "source": [
        "#Create a JSON object of the Table2 Data\n",
        "json_Table2 = json.dumps(dataDict_Table2, indent = 4) \n"
      ],
      "metadata": {
        "id": "EPsXPDpzif6o"
      },
      "execution_count": 146,
      "outputs": []
    },
    {
      "cell_type": "code",
      "source": [
        "#Extract the messy table data from the TABLES3 Sheet \n",
        "  #(Manual inspection used to determine the cut points for the DFs)\n",
        "Tables3_personRelatedFactors = pd.read_excel(DD, 'Tables3', skiprows = 0, nrows=100,\n",
        "                               header = 0, usecols= 'A')\n",
        "Tables3_criticalEvent = (pd.read_excel(DD, 'Tables3', skiprows = 1, nrows=65, \n",
        "                           usecols= 'E'))"
      ],
      "metadata": {
        "id": "FaIQhEAFmfQE"
      },
      "execution_count": 152,
      "outputs": []
    },
    {
      "cell_type": "code",
      "source": [
        "#Parse out the PersonRelatedFactors Numbering System\n",
        "dataDict_Table3 = defaultdict(dict)                    #Build the Data Dictionary\n",
        "\n",
        "Tables3_personRelatedFactors.columns\n",
        "dataDict_Table3[\"Person_Related_Factors\"][\"DATA\"] = {}"
      ],
      "metadata": {
        "id": "HrIqG71OmAW9",
        "outputId": "802618f9-03bf-4b48-b260-e9a3f12c6d73",
        "colab": {
          "base_uri": "https://localhost:8080/"
        }
      },
      "execution_count": 153,
      "outputs": [
        {
          "output_type": "execute_result",
          "data": {
            "text/plain": [
              "Index(['PERSON-RELATED FACTORS'], dtype='object')"
            ]
          },
          "metadata": {},
          "execution_count": 153
        }
      ]
    }
  ]
}