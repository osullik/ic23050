{
  "nbformat": 4,
  "nbformat_minor": 0,
  "metadata": {
    "colab": {
      "provenance": [],
      "toc_visible": true,
      "authorship_tag": "ABX9TyOEXj1jz2Ws4ff7Ssh6dOcN",
      "include_colab_link": true
    },
    "kernelspec": {
      "name": "python3",
      "display_name": "Python 3"
    },
    "language_info": {
      "name": "python"
    }
  },
  "cells": [
    {
      "cell_type": "markdown",
      "metadata": {
        "id": "view-in-github",
        "colab_type": "text"
      },
      "source": [
        "<a href=\"https://colab.research.google.com/github/osullik/ic23050/blob/main/DataDictionary.ipynb\" target=\"_parent\"><img src=\"https://colab.research.google.com/assets/colab-badge.svg\" alt=\"Open In Colab\"/></a>"
      ]
    },
    {
      "cell_type": "code",
      "execution_count": 7,
      "metadata": {
        "id": "QRIK9KJvKAYy"
      },
      "outputs": [],
      "source": [
        "from google.colab import drive\n",
        "import pandas as pd\n",
        "import json"
      ]
    },
    {
      "cell_type": "code",
      "source": [
        "DD = pd.ExcelFile(\"https://github.com/osullik/ic23050/blob/main/L4%20Washington%20Fatal%20Crash%20Files%20-%20Washington%20Traffic%20Safety%20Commission/DataDictionary_Washington%20Fatal%20Crash%20Files.xlsx?raw=true\")"
      ],
      "metadata": {
        "id": "ODDvNGVaMsMT"
      },
      "execution_count": 6,
      "outputs": []
    },
    {
      "cell_type": "code",
      "source": [
        "for sheet in DD.sheet_names:\n",
        "  print(sheet)\n",
        "  \n"
      ],
      "metadata": {
        "id": "U1KCLmNYNaeo",
        "outputId": "cecbf38b-44b5-46cb-9807-577b618e1d04",
        "colab": {
          "base_uri": "https://localhost:8080/"
        }
      },
      "execution_count": 19,
      "outputs": [
        {
          "output_type": "stream",
          "name": "stdout",
          "text": [
            "ReadMe\n",
            "CRASH Data Files\n",
            "PERSON Data Files\n",
            "Tables1\n",
            "Tables2\n",
            "Tables3\n",
            "Tables4\n",
            "Tables5\n",
            "Tables6\n",
            "Tables7\n",
            "Tables8\n",
            "Tables9\n"
          ]
        }
      ]
    },
    {
      "cell_type": "code",
      "source": [
        "ReadMe = pd.read_excel(DD, 'ReadMe')\n",
        "CrashDataFiles = pd.read_excel(DD, 'CRASH Data Files')\n",
        "PersonDataFiles = pd.read_excel(DD, 'PERSON Data Files')\n",
        "Tables1 = pd.read_excel(DD, 'Tables1')\n",
        "Tables2 = pd.read_excel(DD, 'Tables2')\n",
        "Tables3 = pd.read_excel(DD, 'Tables3')\n",
        "Tables4 = pd.read_excel(DD, 'Tables4')\n",
        "Tables5 = pd.read_excel(DD, 'Tables5')\n",
        "Tables6 = pd.read_excel(DD, 'Tables6')\n",
        "Tables7 = pd.read_excel(DD, 'Tables7')\n",
        "Tables8 = pd.read_excel(DD, 'Tables8')\n",
        "Tables9 = pd.read_excel(DD, 'Tables9')"
      ],
      "metadata": {
        "id": "QLH2YtCYNrOL"
      },
      "execution_count": 24,
      "outputs": []
    },
    {
      "cell_type": "code",
      "source": [
        "print(CrashDataFiles.columns)\n",
        "\n",
        "#for column in CrashDataFiles.columns:\n",
        "#  print(\"Column is:\", column)\n",
        "\n",
        "numerals = [1,2,3,4,5,6,7,8,9,0]\n",
        "for idx, series in CrashDataFiles.iterrows():\n",
        "  var = series['VARIABLE']\n",
        "  desc =series['DESCRIPTION/COMMENT']\n",
        "  \n",
        "  if type(desc) == str and desc.find(\"=\") == True:\n",
        "    #print(desc)\n",
        "    lineSplit = (desc.split(\"\\n\"))\n",
        "    for line in lineSplit:\n",
        "      kvPair = line.split('=')\n",
        "      if len(kvPair) >2:\n",
        "      #$print(kvPair)\n",
        "        for item in kvPair:\n",
        "          if any(item) in numerals:\n",
        "            print(item)\n"
      ],
      "metadata": {
        "id": "nQxe6TC1NrVs",
        "outputId": "def54119-4d7a-426f-f9a3-b964a7e6eebf",
        "colab": {
          "base_uri": "https://localhost:8080/"
        }
      },
      "execution_count": 89,
      "outputs": [
        {
          "output_type": "stream",
          "name": "stdout",
          "text": [
            "Index(['Unnamed: 0', 'VARIABLE', 'TYPE', 'LENGTH', 'FORMAT', 'LABEL',\n",
            "       'DESCRIPTION/COMMENT', 'Notes / SAS Code'],\n",
            "      dtype='object')\n",
            "7\n",
            "Oil                                                                                                                                                                                                                                                     8\n",
            "Other\n",
            "0\n",
            "No   1\n",
            "Yes\n",
            "5\n",
            "Front-to-Side, Right Angle (e.g., 'broadside')                                                                                                                                           6\n",
            "Angle\n",
            "8\n",
            "Sideswipe, Opposite Direction                                                                                                                                                                                                                                                     9\n",
            "Rear-to-Side\n",
            "0\n",
            "No            1\n",
            "Yes     \n",
            "8\n",
            "Not reported            9\n",
            "Unknown\n",
            "1\n",
            "No Intersection                                                                                                                    2\n",
            "4-Way  Intersection                                                                                                          3\n",
            "T-Intersection                                                                                                                 4\n",
            "Y-Intersection                                                                                                                                 5\n",
            "Traffic Circle                                                         6\n",
            "Roundabout                                                                                                                7\n",
            "Five-point or more   \n",
            "11\n",
            "Other Intersection Type                                                                                                                                                                             8/98\n",
            "Not Reported                                                                                                                                9/99\n",
            "Unknown \n",
            "3\n",
            "State route                                                                                                                                                                                                        4\n",
            "County road\n",
            "0\n",
            "No         1\n",
            "Yes         8\n",
            "Not Reported\n",
            "3\n",
            "Utility                                                                                                                                                                                                          4\n",
            "Work Zone, unknown type\n",
            "0\n",
            "No   1\n",
            "Yes\n",
            "0\n",
            "No   1\n",
            "Yes\n",
            "0\n",
            "No   1\n",
            "Yes\n",
            "0\n",
            "No   1\n",
            "Yes\n",
            "0\n",
            "No   1\n",
            "Yes\n",
            "0\n",
            "No   1\n",
            "Yes\n",
            "0\n",
            "No   1\n",
            "Yes\n",
            "0\n",
            "No   1\n",
            "Yes\n",
            "0\n",
            "No   1\n",
            "Yes\n",
            "0\n",
            "No   1\n",
            "Yes\n",
            "0\n",
            "No   1\n",
            "Yes\n",
            "0\n",
            "No   1\n",
            "Yes\n",
            "0\n",
            "No   1\n",
            "Yes\n",
            "0\n",
            "No   1\n",
            "Yes\n",
            "0\n",
            "No   1\n",
            "Yes\n",
            "0\n",
            "No   1\n",
            "Yes\n",
            "0\n",
            "No   1\n",
            "Yes\n",
            "0\n",
            "No   1\n",
            "Yes\n",
            "0\n",
            "No   1\n",
            "Yes\n",
            "0\n",
            "No   1\n",
            "Yes\n",
            "0\n",
            "No   1\n",
            "Yes\n",
            "0\n",
            "No   1\n",
            "Yes\n",
            "0\n",
            "No   1\n",
            "Yes\n",
            "0\n",
            "No   1\n",
            "Yes\n",
            "0\n",
            "No   1\n",
            "Yes\n",
            "0\n",
            "No   1\n",
            "Yes\n",
            "0\n",
            "No   1\n",
            "Yes\n",
            "0\n",
            "No   1\n",
            "Yes\n",
            "0\n",
            "No   1\n",
            "Yes\n",
            "0\n",
            "No   1\n",
            "Yes\n",
            "0\n",
            "No   1\n",
            "Yes\n",
            "0\n",
            "No   1\n",
            "Yes\n",
            "0\n",
            "No   1\n",
            "Yes\n",
            "3\n",
            "State route                                                                                                                                                                                                        4\n",
            "County road\n",
            "0\n",
            "No   1\n",
            "Yes\n",
            "0\n",
            "No   1\n",
            "Yes\n",
            "0\n",
            "No   1\n",
            "Yes\n",
            "0\n",
            "No   1\n",
            "Yes\n",
            "0\n",
            "No   1\n",
            "Yes\n",
            "0\n",
            "No   1\n",
            "Yes\n",
            "0\n",
            "No   1\n",
            "Yes\n",
            "0\n",
            "No   1\n",
            "Yes\n",
            "0\n",
            "No   1\n",
            "Yes\n"
          ]
        }
      ]
    },
    {
      "cell_type": "code",
      "source": [],
      "metadata": {
        "id": "0QiwT_R2Ph9R"
      },
      "execution_count": 22,
      "outputs": []
    },
    {
      "cell_type": "code",
      "source": [],
      "metadata": {
        "id": "IKp-rkZoNrYs"
      },
      "execution_count": null,
      "outputs": []
    },
    {
      "cell_type": "code",
      "source": [],
      "metadata": {
        "id": "mowbCCllPr2m"
      },
      "execution_count": null,
      "outputs": []
    },
    {
      "cell_type": "code",
      "source": [],
      "metadata": {
        "id": "oA5vfD1iPr63"
      },
      "execution_count": null,
      "outputs": []
    },
    {
      "cell_type": "code",
      "source": [],
      "metadata": {
        "id": "rzpBpzsAPr_d"
      },
      "execution_count": null,
      "outputs": []
    },
    {
      "cell_type": "code",
      "source": [],
      "metadata": {
        "id": "WREnT1qpPsDc"
      },
      "execution_count": null,
      "outputs": []
    },
    {
      "cell_type": "code",
      "source": [],
      "metadata": {
        "id": "KvhW7AipPsHe"
      },
      "execution_count": null,
      "outputs": []
    },
    {
      "cell_type": "code",
      "source": [],
      "metadata": {
        "id": "R7NBf157PsLH"
      },
      "execution_count": null,
      "outputs": []
    },
    {
      "cell_type": "code",
      "source": [],
      "metadata": {
        "id": "Ofy--07EPsOQ"
      },
      "execution_count": null,
      "outputs": []
    }
  ]
}