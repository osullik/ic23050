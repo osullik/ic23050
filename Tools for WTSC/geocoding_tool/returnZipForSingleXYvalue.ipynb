{
  "nbformat": 4,
  "nbformat_minor": 0,
  "metadata": {
    "colab": {
      "provenance": []
    },
    "kernelspec": {
      "name": "python3",
      "display_name": "Python 3"
    },
    "language_info": {
      "name": "python"
    }
  },
  "cells": [
    {
      "cell_type": "code",
      "execution_count": 1,
      "metadata": {
        "id": "enz0d9GPXf2a"
      },
      "outputs": [],
      "source": [
        "from google.colab import drive\n",
        "from geopy.geocoders import Nominatim"
      ]
    },
    {
      "cell_type": "code",
      "source": [
        "locator = Nominatim(user_agent=\"myGeocoder\")"
      ],
      "metadata": {
        "id": "QkrH_A4aXl60"
      },
      "execution_count": 2,
      "outputs": []
    },
    {
      "cell_type": "code",
      "source": [
        "def reverse_geo(x, y):\n",
        "  return locator.reverse((y,x)).raw"
      ],
      "metadata": {
        "id": "Qdq5ThxyXmPv"
      },
      "execution_count": 3,
      "outputs": []
    },
    {
      "cell_type": "code",
      "source": [
        "xVal = input('What is the X value? (press enter when done): ')\n",
        "yVal = input('What is the Y value? (press enter when done): ')"
      ],
      "metadata": {
        "colab": {
          "base_uri": "https://localhost:8080/"
        },
        "id": "GIczUueTXoL2",
        "outputId": "b7476f4c-1f30-4e95-f628-a215faf5ce2e"
      },
      "execution_count": 5,
      "outputs": [
        {
          "name": "stdout",
          "output_type": "stream",
          "text": [
            "What is the X value? (press enter when done):  -122.1756167\n",
            "What is the Y value? (press enter when done): 48.02354722\n"
          ]
        }
      ]
    },
    {
      "cell_type": "code",
      "source": [
        "try:\n",
        "\n",
        "    location = reverse_geo( float(xVal), float(yVal) )\n",
        "    address = location['address']\n",
        "\n",
        "    if 'postcode' in address:\n",
        "        print('The zip code for (x, y) (', xVal, ', ', yVal, ') is ',address['postcode'])\n",
        "    else:\n",
        "        print('zip was not found by x,y coordinates. Here is the rest of the address data:\\n')\n",
        "        print(address)\n",
        "\n",
        "except:\n",
        "    print('An error occured')"
      ],
      "metadata": {
        "colab": {
          "base_uri": "https://localhost:8080/"
        },
        "id": "EEHu_-2yXvjN",
        "outputId": "7c260d2f-2044-496e-a35e-750b3726458e"
      },
      "execution_count": 7,
      "outputs": [
        {
          "output_type": "stream",
          "name": "stdout",
          "text": [
            "The zip code for (x, y) (  -122.1756167 ,  48.02354722 ) is  98201\n"
          ]
        }
      ]
    }
  ]
}
